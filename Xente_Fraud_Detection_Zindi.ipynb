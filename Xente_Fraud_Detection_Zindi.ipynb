{
  "nbformat": 4,
  "nbformat_minor": 0,
  "metadata": {
    "colab": {
      "name": "Xente_Fraud_Detection_Zindi.ipynb",
      "version": "0.3.2",
      "provenance": [],
      "collapsed_sections": [],
      "include_colab_link": true
    },
    "language_info": {
      "codemirror_mode": {
        "name": "ipython",
        "version": 3
      },
      "file_extension": ".py",
      "mimetype": "text/x-python",
      "name": "python",
      "nbconvert_exporter": "python",
      "pygments_lexer": "ipython3",
      "version": "3.6.8"
    },
    "kernelspec": {
      "name": "python3",
      "display_name": "Python 3"
    },
    "accelerator": "GPU"
  },
  "cells": [
    {
      "cell_type": "markdown",
      "metadata": {
        "id": "view-in-github",
        "colab_type": "text"
      },
      "source": [
        "<a href=\"https://colab.research.google.com/github/Momolunar/git-demo/blob/master/Xente_Fraud_Detection_Zindi.ipynb\" target=\"_parent\"><img src=\"https://colab.research.google.com/assets/colab-badge.svg\" alt=\"Open In Colab\"/></a>"
      ]
    },
    {
      "cell_type": "markdown",
      "metadata": {
        "id": "j7AFiryejHi3",
        "colab_type": "text"
      },
      "source": [
        "# Xente Fraud Detection Classification Challenge\n",
        "\n",
        "> Notebook by Monde Colephi"
      ]
    },
    {
      "cell_type": "markdown",
      "metadata": {
        "id": "ODAccj_iwNFL",
        "colab_type": "text"
      },
      "source": [
        "## Honour Code\n",
        "\n",
        "I Monde Colephi, confirm - by submitting my - that the solutions in this notebook are a result of my own work and that I abide by the EDSA honour code (https://drive.google.com/file/d/1QDCjGZJ8-FmJE3bZdIQNwnJyQKPhHZBn/view?usp=sharing).\n",
        "\n",
        "Non-compliance with the honour code constitutes a material breach of contract."
      ]
    },
    {
      "cell_type": "code",
      "metadata": {
        "id": "xkMYh0D2gT5_",
        "colab_type": "code",
        "colab": {}
      },
      "source": [
        "import pandas as pd\n",
        "import numpy as np\n",
        "import matplotlib.pyplot as plt\n",
        "import seaborn as sns\n",
        "from sklearn.model_selection import train_test_split, GridSearchCV, cross_val_score#, TimeSeriesSplit\n",
        "from sklearn.linear_model import LogisticRegression\n",
        "from sklearn.naive_bayes import MultinomialNB\n",
        "from sklearn import metrics\n",
        "from sklearn.ensemble import RandomForestClassifier\n",
        "from sklearn.preprocessing import StandardScaler"
      ],
      "execution_count": 0,
      "outputs": []
    },
    {
      "cell_type": "code",
      "metadata": {
        "id": "iwwBBGeTgT6D",
        "colab_type": "code",
        "colab": {}
      },
      "source": [
        "train = pd.read_csv('../content/training.csv')\n",
        "test = pd.read_csv('../content/test.csv')"
      ],
      "execution_count": 0,
      "outputs": []
    },
    {
      "cell_type": "markdown",
      "metadata": {
        "id": "6hdq2Q0JkN7e",
        "colab_type": "text"
      },
      "source": [
        "## EDA"
      ]
    },
    {
      "cell_type": "code",
      "metadata": {
        "id": "weoaGF5dgT6F",
        "colab_type": "code",
        "colab": {
          "base_uri": "https://localhost:8080/",
          "height": 224
        },
        "outputId": "58ab5b3f-0606-4591-99b6-3e2b30d11902"
      },
      "source": [
        "train.head()"
      ],
      "execution_count": 130,
      "outputs": [
        {
          "output_type": "execute_result",
          "data": {
            "text/html": [
              "<div>\n",
              "<style scoped>\n",
              "    .dataframe tbody tr th:only-of-type {\n",
              "        vertical-align: middle;\n",
              "    }\n",
              "\n",
              "    .dataframe tbody tr th {\n",
              "        vertical-align: top;\n",
              "    }\n",
              "\n",
              "    .dataframe thead th {\n",
              "        text-align: right;\n",
              "    }\n",
              "</style>\n",
              "<table border=\"1\" class=\"dataframe\">\n",
              "  <thead>\n",
              "    <tr style=\"text-align: right;\">\n",
              "      <th></th>\n",
              "      <th>TransactionId</th>\n",
              "      <th>BatchId</th>\n",
              "      <th>AccountId</th>\n",
              "      <th>SubscriptionId</th>\n",
              "      <th>CustomerId</th>\n",
              "      <th>CurrencyCode</th>\n",
              "      <th>CountryCode</th>\n",
              "      <th>ProviderId</th>\n",
              "      <th>ProductId</th>\n",
              "      <th>ProductCategory</th>\n",
              "      <th>ChannelId</th>\n",
              "      <th>Amount</th>\n",
              "      <th>Value</th>\n",
              "      <th>TransactionStartTime</th>\n",
              "      <th>PricingStrategy</th>\n",
              "      <th>FraudResult</th>\n",
              "      <th>Number_of_Batch_Trans</th>\n",
              "    </tr>\n",
              "  </thead>\n",
              "  <tbody>\n",
              "    <tr>\n",
              "      <th>0</th>\n",
              "      <td>TransactionId_76871</td>\n",
              "      <td>BatchId_36123</td>\n",
              "      <td>AccountId_3957</td>\n",
              "      <td>SubscriptionId_887</td>\n",
              "      <td>CustomerId_4406</td>\n",
              "      <td>UGX</td>\n",
              "      <td>256</td>\n",
              "      <td>ProviderId_6</td>\n",
              "      <td>ProductId_10</td>\n",
              "      <td>airtime</td>\n",
              "      <td>ChannelId_3</td>\n",
              "      <td>1000.0</td>\n",
              "      <td>1000</td>\n",
              "      <td>2018-11-15T02:18:49Z</td>\n",
              "      <td>2</td>\n",
              "      <td>0</td>\n",
              "      <td>1</td>\n",
              "    </tr>\n",
              "    <tr>\n",
              "      <th>1</th>\n",
              "      <td>TransactionId_73770</td>\n",
              "      <td>BatchId_15642</td>\n",
              "      <td>AccountId_4841</td>\n",
              "      <td>SubscriptionId_3829</td>\n",
              "      <td>CustomerId_4406</td>\n",
              "      <td>UGX</td>\n",
              "      <td>256</td>\n",
              "      <td>ProviderId_4</td>\n",
              "      <td>ProductId_6</td>\n",
              "      <td>financial_services</td>\n",
              "      <td>ChannelId_2</td>\n",
              "      <td>-20.0</td>\n",
              "      <td>20</td>\n",
              "      <td>2018-11-15T02:19:08Z</td>\n",
              "      <td>2</td>\n",
              "      <td>0</td>\n",
              "      <td>1</td>\n",
              "    </tr>\n",
              "    <tr>\n",
              "      <th>2</th>\n",
              "      <td>TransactionId_26203</td>\n",
              "      <td>BatchId_53941</td>\n",
              "      <td>AccountId_4229</td>\n",
              "      <td>SubscriptionId_222</td>\n",
              "      <td>CustomerId_4683</td>\n",
              "      <td>UGX</td>\n",
              "      <td>256</td>\n",
              "      <td>ProviderId_6</td>\n",
              "      <td>ProductId_1</td>\n",
              "      <td>airtime</td>\n",
              "      <td>ChannelId_3</td>\n",
              "      <td>500.0</td>\n",
              "      <td>500</td>\n",
              "      <td>2018-11-15T02:44:21Z</td>\n",
              "      <td>2</td>\n",
              "      <td>0</td>\n",
              "      <td>1</td>\n",
              "    </tr>\n",
              "    <tr>\n",
              "      <th>3</th>\n",
              "      <td>TransactionId_380</td>\n",
              "      <td>BatchId_102363</td>\n",
              "      <td>AccountId_648</td>\n",
              "      <td>SubscriptionId_2185</td>\n",
              "      <td>CustomerId_988</td>\n",
              "      <td>UGX</td>\n",
              "      <td>256</td>\n",
              "      <td>ProviderId_1</td>\n",
              "      <td>ProductId_21</td>\n",
              "      <td>utility_bill</td>\n",
              "      <td>ChannelId_3</td>\n",
              "      <td>20000.0</td>\n",
              "      <td>21800</td>\n",
              "      <td>2018-11-15T03:32:55Z</td>\n",
              "      <td>2</td>\n",
              "      <td>0</td>\n",
              "      <td>1</td>\n",
              "    </tr>\n",
              "    <tr>\n",
              "      <th>4</th>\n",
              "      <td>TransactionId_28195</td>\n",
              "      <td>BatchId_38780</td>\n",
              "      <td>AccountId_4841</td>\n",
              "      <td>SubscriptionId_3829</td>\n",
              "      <td>CustomerId_988</td>\n",
              "      <td>UGX</td>\n",
              "      <td>256</td>\n",
              "      <td>ProviderId_4</td>\n",
              "      <td>ProductId_6</td>\n",
              "      <td>financial_services</td>\n",
              "      <td>ChannelId_2</td>\n",
              "      <td>-644.0</td>\n",
              "      <td>644</td>\n",
              "      <td>2018-11-15T03:34:21Z</td>\n",
              "      <td>2</td>\n",
              "      <td>0</td>\n",
              "      <td>1</td>\n",
              "    </tr>\n",
              "  </tbody>\n",
              "</table>\n",
              "</div>"
            ],
            "text/plain": [
              "         TransactionId         BatchId  ... FraudResult Number_of_Batch_Trans\n",
              "0  TransactionId_76871   BatchId_36123  ...           0                     1\n",
              "1  TransactionId_73770   BatchId_15642  ...           0                     1\n",
              "2  TransactionId_26203   BatchId_53941  ...           0                     1\n",
              "3    TransactionId_380  BatchId_102363  ...           0                     1\n",
              "4  TransactionId_28195   BatchId_38780  ...           0                     1\n",
              "\n",
              "[5 rows x 17 columns]"
            ]
          },
          "metadata": {
            "tags": []
          },
          "execution_count": 130
        }
      ]
    },
    {
      "cell_type": "markdown",
      "metadata": {
        "id": "GJTyb0eigT6K",
        "colab_type": "text"
      },
      "source": [
        "> Have an overview of the data"
      ]
    },
    {
      "cell_type": "code",
      "metadata": {
        "id": "AuahFIpXgT6L",
        "colab_type": "code",
        "colab": {
          "base_uri": "https://localhost:8080/",
          "height": 391
        },
        "outputId": "34700ee2-3965-49cc-c414-60c2012aebf5"
      },
      "source": [
        "train.info()"
      ],
      "execution_count": 131,
      "outputs": [
        {
          "output_type": "stream",
          "text": [
            "<class 'pandas.core.frame.DataFrame'>\n",
            "RangeIndex: 95662 entries, 0 to 95661\n",
            "Data columns (total 17 columns):\n",
            "TransactionId            95662 non-null object\n",
            "BatchId                  95662 non-null object\n",
            "AccountId                95662 non-null object\n",
            "SubscriptionId           95662 non-null object\n",
            "CustomerId               95662 non-null object\n",
            "CurrencyCode             95662 non-null object\n",
            "CountryCode              95662 non-null int64\n",
            "ProviderId               95662 non-null object\n",
            "ProductId                95662 non-null object\n",
            "ProductCategory          95662 non-null object\n",
            "ChannelId                95662 non-null object\n",
            "Amount                   95662 non-null float64\n",
            "Value                    95662 non-null int64\n",
            "TransactionStartTime     95662 non-null object\n",
            "PricingStrategy          95662 non-null int64\n",
            "FraudResult              95662 non-null int64\n",
            "Number_of_Batch_Trans    95662 non-null int64\n",
            "dtypes: float64(1), int64(5), object(11)\n",
            "memory usage: 12.4+ MB\n"
          ],
          "name": "stdout"
        }
      ]
    },
    {
      "cell_type": "code",
      "metadata": {
        "id": "rQQ_qGJ-joZ3",
        "colab_type": "code",
        "colab": {
          "base_uri": "https://localhost:8080/",
          "height": 374
        },
        "outputId": "8f452af6-fb36-491c-ba31-42584dfc7de5"
      },
      "source": [
        "test.info()"
      ],
      "execution_count": 132,
      "outputs": [
        {
          "output_type": "stream",
          "text": [
            "<class 'pandas.core.frame.DataFrame'>\n",
            "RangeIndex: 45019 entries, 0 to 45018\n",
            "Data columns (total 16 columns):\n",
            "TransactionId            45019 non-null object\n",
            "BatchId                  45019 non-null object\n",
            "AccountId                45019 non-null object\n",
            "SubscriptionId           45019 non-null object\n",
            "CustomerId               45019 non-null object\n",
            "CurrencyCode             45019 non-null object\n",
            "CountryCode              45019 non-null int64\n",
            "ProviderId               45019 non-null object\n",
            "ProductId                45019 non-null object\n",
            "ProductCategory          45019 non-null object\n",
            "ChannelId                45019 non-null object\n",
            "Amount                   45019 non-null float64\n",
            "Value                    45019 non-null int64\n",
            "TransactionStartTime     45019 non-null object\n",
            "PricingStrategy          45019 non-null int64\n",
            "Number_of_Batch_Trans    45019 non-null int64\n",
            "dtypes: float64(1), int64(4), object(11)\n",
            "memory usage: 5.5+ MB\n"
          ],
          "name": "stdout"
        }
      ]
    },
    {
      "cell_type": "markdown",
      "metadata": {
        "id": "_qrT4hHEmAnE",
        "colab_type": "text"
      },
      "source": [
        "> We want to check if there are any missing values in the dataset. And if they are, how can we go about to imputing them. But we can see below that there aren't any missing values."
      ]
    },
    {
      "cell_type": "code",
      "metadata": {
        "id": "3LMUu-Pel1BA",
        "colab_type": "code",
        "colab": {
          "base_uri": "https://localhost:8080/",
          "height": 323
        },
        "outputId": "afda4ec9-1af5-40cd-9bb6-9bf9bc884884"
      },
      "source": [
        "train.isna().sum()"
      ],
      "execution_count": 133,
      "outputs": [
        {
          "output_type": "execute_result",
          "data": {
            "text/plain": [
              "TransactionId            0\n",
              "BatchId                  0\n",
              "AccountId                0\n",
              "SubscriptionId           0\n",
              "CustomerId               0\n",
              "CurrencyCode             0\n",
              "CountryCode              0\n",
              "ProviderId               0\n",
              "ProductId                0\n",
              "ProductCategory          0\n",
              "ChannelId                0\n",
              "Amount                   0\n",
              "Value                    0\n",
              "TransactionStartTime     0\n",
              "PricingStrategy          0\n",
              "FraudResult              0\n",
              "Number_of_Batch_Trans    0\n",
              "dtype: int64"
            ]
          },
          "metadata": {
            "tags": []
          },
          "execution_count": 133
        }
      ]
    },
    {
      "cell_type": "code",
      "metadata": {
        "id": "FOuW76_Yl76U",
        "colab_type": "code",
        "colab": {
          "base_uri": "https://localhost:8080/",
          "height": 306
        },
        "outputId": "967fca6c-1129-4e75-8ccd-3ffe694fe46b"
      },
      "source": [
        "test.isna().sum()"
      ],
      "execution_count": 134,
      "outputs": [
        {
          "output_type": "execute_result",
          "data": {
            "text/plain": [
              "TransactionId            0\n",
              "BatchId                  0\n",
              "AccountId                0\n",
              "SubscriptionId           0\n",
              "CustomerId               0\n",
              "CurrencyCode             0\n",
              "CountryCode              0\n",
              "ProviderId               0\n",
              "ProductId                0\n",
              "ProductCategory          0\n",
              "ChannelId                0\n",
              "Amount                   0\n",
              "Value                    0\n",
              "TransactionStartTime     0\n",
              "PricingStrategy          0\n",
              "Number_of_Batch_Trans    0\n",
              "dtype: int64"
            ]
          },
          "metadata": {
            "tags": []
          },
          "execution_count": 134
        }
      ]
    },
    {
      "cell_type": "code",
      "metadata": {
        "id": "PSx_tdLJgT6P",
        "colab_type": "code",
        "colab": {
          "base_uri": "https://localhost:8080/",
          "height": 34
        },
        "outputId": "570a38df-64f8-4b87-90be-8c6353a6d749"
      },
      "source": [
        "train.TransactionId.nunique()"
      ],
      "execution_count": 135,
      "outputs": [
        {
          "output_type": "execute_result",
          "data": {
            "text/plain": [
              "95662"
            ]
          },
          "metadata": {
            "tags": []
          },
          "execution_count": 135
        }
      ]
    },
    {
      "cell_type": "markdown",
      "metadata": {
        "id": "ANesMK4ygT6S",
        "colab_type": "text"
      },
      "source": [
        "There are 95 662 unique transaction"
      ]
    },
    {
      "cell_type": "code",
      "metadata": {
        "id": "zqIVP7f5gT6T",
        "colab_type": "code",
        "colab": {
          "base_uri": "https://localhost:8080/",
          "height": 34
        },
        "outputId": "422d8087-3014-4049-fbd2-fbe47e9dd48d"
      },
      "source": [
        "train.BatchId.nunique()"
      ],
      "execution_count": 136,
      "outputs": [
        {
          "output_type": "execute_result",
          "data": {
            "text/plain": [
              "94809"
            ]
          },
          "metadata": {
            "tags": []
          },
          "execution_count": 136
        }
      ]
    },
    {
      "cell_type": "code",
      "metadata": {
        "id": "cDeJxf-Z3VQ9",
        "colab_type": "code",
        "colab": {}
      },
      "source": [
        "# Create column with the number of batch transactions\n",
        "\n",
        "batch_train = dict(train.groupby('BatchId')['TransactionId'].count())\n",
        "train['Number_of_Batch_Trans'] = train.BatchId.apply(lambda x : batch_train[x])\n",
        "\n",
        "batch_test = dict(test.groupby('BatchId')['TransactionId'].count())\n",
        "test['Number_of_Batch_Trans'] = test.BatchId.apply(lambda x : batch_test[x])"
      ],
      "execution_count": 0,
      "outputs": []
    },
    {
      "cell_type": "code",
      "metadata": {
        "id": "hk9HBpa_gT6Y",
        "colab_type": "code",
        "colab": {
          "base_uri": "https://localhost:8080/",
          "height": 34
        },
        "outputId": "8e86cff3-7496-4b5b-d214-6fec047ec03f"
      },
      "source": [
        "train.AccountId.nunique()"
      ],
      "execution_count": 137,
      "outputs": [
        {
          "output_type": "execute_result",
          "data": {
            "text/plain": [
              "3633"
            ]
          },
          "metadata": {
            "tags": []
          },
          "execution_count": 137
        }
      ]
    },
    {
      "cell_type": "code",
      "metadata": {
        "id": "MN0iXFPjw0tM",
        "colab_type": "code",
        "colab": {}
      },
      "source": [
        "# Create column with the number of account transactions\n",
        "\n",
        "account_train = dict(train.groupby('AccountId')['TransactionId'].count())\n",
        "train['Number_of_Transactions'] = train.AccountId.apply(lambda x : account_train[x])\n",
        "\n",
        "account_test = dict(test.groupby('AccountId')['TransactionId'].count())\n",
        "test['Number_of_Transactions'] = test.AccountId.apply(lambda x : account_test[x])"
      ],
      "execution_count": 0,
      "outputs": []
    },
    {
      "cell_type": "code",
      "metadata": {
        "scrolled": true,
        "id": "_gb8FKB1gT6b",
        "colab_type": "code",
        "colab": {
          "base_uri": "https://localhost:8080/",
          "height": 51
        },
        "outputId": "09eab7f3-9845-474e-91ac-04d549f1787b"
      },
      "source": [
        "train.ProviderId.unique()"
      ],
      "execution_count": 138,
      "outputs": [
        {
          "output_type": "execute_result",
          "data": {
            "text/plain": [
              "array(['ProviderId_6', 'ProviderId_4', 'ProviderId_1', 'ProviderId_5',\n",
              "       'ProviderId_3', 'ProviderId_2'], dtype=object)"
            ]
          },
          "metadata": {
            "tags": []
          },
          "execution_count": 138
        }
      ]
    },
    {
      "cell_type": "code",
      "metadata": {
        "id": "9Gwj984RdpcA",
        "colab_type": "code",
        "colab": {
          "base_uri": "https://localhost:8080/",
          "height": 433
        },
        "outputId": "d8fd574d-b342-4c33-b1f9-e9a1248ec419"
      },
      "source": [
        "plt.figure(figsize=(7,6))\n",
        "sns.countplot(x = 'ProviderId', data = train, palette='hls', hue='FraudResult')\n",
        "plt.xticks(rotation=45)\n",
        "plt.show()"
      ],
      "execution_count": 142,
      "outputs": [
        {
          "output_type": "display_data",
          "data": {
            "image/png": "[encoded data removed]",
            "text/plain": [
              "<Figure size 504x432 with 1 Axes>"
            ]
          },
          "metadata": {
            "tags": []
          }
        }
      ]
    },
    {
      "cell_type": "markdown",
      "metadata": {
        "id": "N-lji5dHeZBs",
        "colab_type": "text"
      },
      "source": [
        ""
      ]
    },
    {
      "cell_type": "code",
      "metadata": {
        "id": "PiJpCIKGgT6e",
        "colab_type": "code",
        "colab": {
          "base_uri": "https://localhost:8080/",
          "height": 119
        },
        "outputId": "af5b7ad2-973d-43c4-b4b9-98a4706e16ee"
      },
      "source": [
        "train.ProductId.unique()"
      ],
      "execution_count": 143,
      "outputs": [
        {
          "output_type": "execute_result",
          "data": {
            "text/plain": [
              "array(['ProductId_10', 'ProductId_6', 'ProductId_1', 'ProductId_21',\n",
              "       'ProductId_3', 'ProductId_15', 'ProductId_11', 'ProductId_19',\n",
              "       'ProductId_4', 'ProductId_5', 'ProductId_20', 'ProductId_9',\n",
              "       'ProductId_24', 'ProductId_14', 'ProductId_2', 'ProductId_13',\n",
              "       'ProductId_22', 'ProductId_8', 'ProductId_7', 'ProductId_27',\n",
              "       'ProductId_12', 'ProductId_16', 'ProductId_23'], dtype=object)"
            ]
          },
          "metadata": {
            "tags": []
          },
          "execution_count": 143
        }
      ]
    },
    {
      "cell_type": "code",
      "metadata": {
        "id": "LRHmbBE8gT6h",
        "colab_type": "code",
        "colab": {
          "base_uri": "https://localhost:8080/",
          "height": 34
        },
        "outputId": "76f45ecf-3da4-4ae5-85b9-ca764650190a"
      },
      "source": [
        "len(train.ProductId.unique())"
      ],
      "execution_count": 19,
      "outputs": [
        {
          "output_type": "execute_result",
          "data": {
            "text/plain": [
              "23"
            ]
          },
          "metadata": {
            "tags": []
          },
          "execution_count": 19
        }
      ]
    },
    {
      "cell_type": "code",
      "metadata": {
        "id": "IBcakSnTfG_L",
        "colab_type": "code",
        "colab": {
          "base_uri": "https://localhost:8080/",
          "height": 435
        },
        "outputId": "a4135108-165f-437d-e6bd-649bc157582f"
      },
      "source": [
        "plt.figure(figsize=(7,6))\n",
        "sns.countplot(x = 'ProductId', data = train, palette='hls', hue='FraudResult')\n",
        "plt.xticks(rotation=45)\n",
        "plt.show()"
      ],
      "execution_count": 144,
      "outputs": [
        {
          "output_type": "display_data",
          "data": {
            "image/png": "[encoded data removed]",
            "text/plain": [
              "<Figure size 504x432 with 1 Axes>"
            ]
          },
          "metadata": {
            "tags": []
          }
        }
      ]
    },
    {
      "cell_type": "code",
      "metadata": {
        "id": "XY_DAKuSgT6l",
        "colab_type": "code",
        "colab": {
          "base_uri": "https://localhost:8080/",
          "height": 51
        },
        "outputId": "5dbeb67f-ffb4-4ca1-d792-883f3a221d0f"
      },
      "source": [
        "train.ProductCategory.unique()"
      ],
      "execution_count": 145,
      "outputs": [
        {
          "output_type": "execute_result",
          "data": {
            "text/plain": [
              "array(['airtime', 'financial_services', 'utility_bill', 'data_bundles',\n",
              "       'tv', 'transport', 'ticket', 'movies', 'other'], dtype=object)"
            ]
          },
          "metadata": {
            "tags": []
          },
          "execution_count": 145
        }
      ]
    },
    {
      "cell_type": "code",
      "metadata": {
        "id": "umHwcUF5fSAr",
        "colab_type": "code",
        "colab": {
          "base_uri": "https://localhost:8080/",
          "height": 452
        },
        "outputId": "271fcc4e-006d-4d26-eea3-cd4087afd8dd"
      },
      "source": [
        "plt.figure(figsize=(7,6))\n",
        "sns.countplot(x = 'ProductCategory', data = train, palette='hls', hue='FraudResult')\n",
        "plt.xticks(rotation=-45)\n",
        "plt.show()"
      ],
      "execution_count": 147,
      "outputs": [
        {
          "output_type": "display_data",
          "data": {
            "image/png": "[encoded data removed]",
            "text/plain": [
              "<Figure size 504x432 with 1 Axes>"
            ]
          },
          "metadata": {
            "tags": []
          }
        }
      ]
    },
    {
      "cell_type": "markdown",
      "metadata": {
        "id": "sbZVa5CNffRM",
        "colab_type": "text"
      },
      "source": [
        "> Most of the users use the airtime and financial services product. But because of the class imbalance, we do not have enough of the defaulting data to see the differences between products represented in the graph, it doesnt even show."
      ]
    },
    {
      "cell_type": "code",
      "metadata": {
        "id": "BUiGJi6dgT6o",
        "colab_type": "code",
        "colab": {
          "base_uri": "https://localhost:8080/",
          "height": 51
        },
        "outputId": "dd5bcc39-a581-433d-a301-32773c8efece"
      },
      "source": [
        "train.ChannelId.unique()"
      ],
      "execution_count": 148,
      "outputs": [
        {
          "output_type": "execute_result",
          "data": {
            "text/plain": [
              "array(['ChannelId_3', 'ChannelId_2', 'ChannelId_1', 'ChannelId_5'],\n",
              "      dtype=object)"
            ]
          },
          "metadata": {
            "tags": []
          },
          "execution_count": 148
        }
      ]
    },
    {
      "cell_type": "code",
      "metadata": {
        "id": "T4R1ZnkEgBXA",
        "colab_type": "code",
        "colab": {
          "base_uri": "https://localhost:8080/",
          "height": 433
        },
        "outputId": "1c23d351-775b-4d97-a925-883a1a92bae9"
      },
      "source": [
        "plt.figure(figsize=(7,6))\n",
        "sns.countplot(x = 'ChannelId', data = train, palette='hls', hue='FraudResult')\n",
        "plt.xticks(rotation=-45)\n",
        "plt.show()\n",
        "\n",
        "# channels : [web, Android, IOS, pay later, checkout]"
      ],
      "execution_count": 149,
      "outputs": [
        {
          "output_type": "display_data",
          "data": {
            "image/png": "[encoded data removed]",
            "text/plain": [
              "<Figure size 504x432 with 1 Axes>"
            ]
          },
          "metadata": {
            "tags": []
          }
        }
      ]
    },
    {
      "cell_type": "markdown",
      "metadata": {
        "id": "aUr8hBM7g3WW",
        "colab_type": "text"
      },
      "source": [
        "> Most users are iOS users, followed by Andriod. And for this period there were np pay later users."
      ]
    },
    {
      "cell_type": "code",
      "metadata": {
        "id": "bGlnFI3bgT6s",
        "colab_type": "code",
        "colab": {
          "base_uri": "https://localhost:8080/",
          "height": 34
        },
        "outputId": "13985b85-31b1-485b-b1ea-895d1e869558"
      },
      "source": [
        "train.PricingStrategy.unique()"
      ],
      "execution_count": 23,
      "outputs": [
        {
          "output_type": "execute_result",
          "data": {
            "text/plain": [
              "array([2, 4, 1, 0])"
            ]
          },
          "metadata": {
            "tags": []
          },
          "execution_count": 23
        }
      ]
    },
    {
      "cell_type": "code",
      "metadata": {
        "id": "K0ydsOeZhKfj",
        "colab_type": "code",
        "colab": {
          "base_uri": "https://localhost:8080/",
          "height": 393
        },
        "outputId": "8fa95918-4e11-416f-cffa-ce60f290fe64"
      },
      "source": [
        "plt.figure(figsize=(7,6))\n",
        "sns.countplot(x = 'PricingStrategy', data = train, palette='hls', hue='FraudResult')\n",
        "plt.xticks(rotation=-45)\n",
        "plt.show()"
      ],
      "execution_count": 150,
      "outputs": [
        {
          "output_type": "display_data",
          "data": {
            "image/png": "[encoded data removed]",
            "text/plain": [
              "<Figure size 504x432 with 1 Axes>"
            ]
          },
          "metadata": {
            "tags": []
          }
        }
      ]
    },
    {
      "cell_type": "markdown",
      "metadata": {
        "id": "J8WknBtxk123",
        "colab_type": "text"
      },
      "source": [
        "> Change the TransactionStartTime columns to a datetime format.\n",
        "\n",
        "Create date features from the TransactionStartTime"
      ]
    },
    {
      "cell_type": "code",
      "metadata": {
        "id": "qYaQqAeJgT6y",
        "colab_type": "code",
        "colab": {}
      },
      "source": [
        "# change to date time format\n",
        "\n",
        "train.TransactionStartTime = pd.to_datetime(train.TransactionStartTime)\n",
        "test.TransactionStartTime = pd.to_datetime(test.TransactionStartTime)"
      ],
      "execution_count": 0,
      "outputs": []
    },
    {
      "cell_type": "code",
      "metadata": {
        "id": "6wCcUvZHu9J5",
        "colab_type": "code",
        "colab": {
          "base_uri": "https://localhost:8080/",
          "height": 34
        },
        "outputId": "7ea51503-3b34-480b-9aea-59d6402e8999"
      },
      "source": [
        "test.TransactionStartTime.dtype"
      ],
      "execution_count": 152,
      "outputs": [
        {
          "output_type": "execute_result",
          "data": {
            "text/plain": [
              "datetime64[ns, UTC]"
            ]
          },
          "metadata": {
            "tags": []
          },
          "execution_count": 152
        }
      ]
    },
    {
      "cell_type": "code",
      "metadata": {
        "id": "bpWLsH1UgT63",
        "colab_type": "code",
        "colab": {
          "base_uri": "https://localhost:8080/",
          "height": 34
        },
        "outputId": "03e21270-130e-4336-d3d0-a2730459c297"
      },
      "source": [
        "train.TransactionStartTime.dtype"
      ],
      "execution_count": 153,
      "outputs": [
        {
          "output_type": "execute_result",
          "data": {
            "text/plain": [
              "datetime64[ns, UTC]"
            ]
          },
          "metadata": {
            "tags": []
          },
          "execution_count": 153
        }
      ]
    },
    {
      "cell_type": "code",
      "metadata": {
        "id": "8T1nFJx-rmn1",
        "colab_type": "code",
        "colab": {
          "base_uri": "https://localhost:8080/",
          "height": 378
        },
        "outputId": "cd4fe113-533a-4c2b-ac57-71f88f38eddb"
      },
      "source": [
        "plt.figure(figsize=(8,6))\n",
        "plt.plot(train.iloc[:100,].TransactionStartTime, train.iloc[:100,].Amount)\n",
        "plt.show()"
      ],
      "execution_count": 52,
      "outputs": [
        {
          "output_type": "display_data",
          "data": {
            "image/png": "[encoded data removed]",
            "text/plain": [
              "<Figure size 576x432 with 1 Axes>"
            ]
          },
          "metadata": {
            "tags": []
          }
        }
      ]
    },
    {
      "cell_type": "code",
      "metadata": {
        "id": "wWgr-7MKs9cN",
        "colab_type": "code",
        "colab": {}
      },
      "source": [
        "# Create TransactionStartTime year, month and day features\n",
        "\n",
        "train['TransactionStartTime_year'] = train.TransactionStartTime.dt.year\n",
        "train['TransactionStartTime_month'] = train.TransactionStartTime.dt.month\n",
        "train['TransactionStartTime_day'] = train.TransactionStartTime.dt.day\n",
        "train['TransactionStartTime_day_of_week'] = train.TransactionStartTime.dt.dayofweek\n",
        "\n",
        "test['TransactionStartTime_year'] = test.TransactionStartTime.dt.year\n",
        "test['TransactionStartTime_month'] = test.TransactionStartTime.dt.month\n",
        "test['TransactionStartTime_day'] = test.TransactionStartTime.dt.day\n",
        "test['TransactionStartTime_day_of_week'] = test.TransactionStartTime.dt.dayofweek"
      ],
      "execution_count": 0,
      "outputs": []
    },
    {
      "cell_type": "code",
      "metadata": {
        "id": "6pu6j1qguw5S",
        "colab_type": "code",
        "colab": {
          "base_uri": "https://localhost:8080/",
          "height": 309
        },
        "outputId": "e9f38352-8a38-4b72-8181-b818f0a4b655"
      },
      "source": [
        "train.head()"
      ],
      "execution_count": 155,
      "outputs": [
        {
          "output_type": "execute_result",
          "data": {
            "text/html": [
              "<div>\n",
              "<style scoped>\n",
              "    .dataframe tbody tr th:only-of-type {\n",
              "        vertical-align: middle;\n",
              "    }\n",
              "\n",
              "    .dataframe tbody tr th {\n",
              "        vertical-align: top;\n",
              "    }\n",
              "\n",
              "    .dataframe thead th {\n",
              "        text-align: right;\n",
              "    }\n",
              "</style>\n",
              "<table border=\"1\" class=\"dataframe\">\n",
              "  <thead>\n",
              "    <tr style=\"text-align: right;\">\n",
              "      <th></th>\n",
              "      <th>TransactionId</th>\n",
              "      <th>BatchId</th>\n",
              "      <th>AccountId</th>\n",
              "      <th>SubscriptionId</th>\n",
              "      <th>CustomerId</th>\n",
              "      <th>CurrencyCode</th>\n",
              "      <th>CountryCode</th>\n",
              "      <th>ProviderId</th>\n",
              "      <th>ProductId</th>\n",
              "      <th>ProductCategory</th>\n",
              "      <th>ChannelId</th>\n",
              "      <th>Amount</th>\n",
              "      <th>Value</th>\n",
              "      <th>TransactionStartTime</th>\n",
              "      <th>PricingStrategy</th>\n",
              "      <th>FraudResult</th>\n",
              "      <th>Number_of_Batch_Trans</th>\n",
              "      <th>TransactionStartTime_year</th>\n",
              "      <th>TransactionStartTime_month</th>\n",
              "      <th>TransactionStartTime_day</th>\n",
              "      <th>TransactionStartTime_day_of_week</th>\n",
              "    </tr>\n",
              "  </thead>\n",
              "  <tbody>\n",
              "    <tr>\n",
              "      <th>0</th>\n",
              "      <td>TransactionId_76871</td>\n",
              "      <td>BatchId_36123</td>\n",
              "      <td>AccountId_3957</td>\n",
              "      <td>SubscriptionId_887</td>\n",
              "      <td>CustomerId_4406</td>\n",
              "      <td>UGX</td>\n",
              "      <td>256</td>\n",
              "      <td>ProviderId_6</td>\n",
              "      <td>ProductId_10</td>\n",
              "      <td>airtime</td>\n",
              "      <td>ChannelId_3</td>\n",
              "      <td>1000.0</td>\n",
              "      <td>1000</td>\n",
              "      <td>2018-11-15 02:18:49+00:00</td>\n",
              "      <td>2</td>\n",
              "      <td>0</td>\n",
              "      <td>1</td>\n",
              "      <td>2018</td>\n",
              "      <td>11</td>\n",
              "      <td>15</td>\n",
              "      <td>3</td>\n",
              "    </tr>\n",
              "    <tr>\n",
              "      <th>1</th>\n",
              "      <td>TransactionId_73770</td>\n",
              "      <td>BatchId_15642</td>\n",
              "      <td>AccountId_4841</td>\n",
              "      <td>SubscriptionId_3829</td>\n",
              "      <td>CustomerId_4406</td>\n",
              "      <td>UGX</td>\n",
              "      <td>256</td>\n",
              "      <td>ProviderId_4</td>\n",
              "      <td>ProductId_6</td>\n",
              "      <td>financial_services</td>\n",
              "      <td>ChannelId_2</td>\n",
              "      <td>-20.0</td>\n",
              "      <td>20</td>\n",
              "      <td>2018-11-15 02:19:08+00:00</td>\n",
              "      <td>2</td>\n",
              "      <td>0</td>\n",
              "      <td>1</td>\n",
              "      <td>2018</td>\n",
              "      <td>11</td>\n",
              "      <td>15</td>\n",
              "      <td>3</td>\n",
              "    </tr>\n",
              "    <tr>\n",
              "      <th>2</th>\n",
              "      <td>TransactionId_26203</td>\n",
              "      <td>BatchId_53941</td>\n",
              "      <td>AccountId_4229</td>\n",
              "      <td>SubscriptionId_222</td>\n",
              "      <td>CustomerId_4683</td>\n",
              "      <td>UGX</td>\n",
              "      <td>256</td>\n",
              "      <td>ProviderId_6</td>\n",
              "      <td>ProductId_1</td>\n",
              "      <td>airtime</td>\n",
              "      <td>ChannelId_3</td>\n",
              "      <td>500.0</td>\n",
              "      <td>500</td>\n",
              "      <td>2018-11-15 02:44:21+00:00</td>\n",
              "      <td>2</td>\n",
              "      <td>0</td>\n",
              "      <td>1</td>\n",
              "      <td>2018</td>\n",
              "      <td>11</td>\n",
              "      <td>15</td>\n",
              "      <td>3</td>\n",
              "    </tr>\n",
              "    <tr>\n",
              "      <th>3</th>\n",
              "      <td>TransactionId_380</td>\n",
              "      <td>BatchId_102363</td>\n",
              "      <td>AccountId_648</td>\n",
              "      <td>SubscriptionId_2185</td>\n",
              "      <td>CustomerId_988</td>\n",
              "      <td>UGX</td>\n",
              "      <td>256</td>\n",
              "      <td>ProviderId_1</td>\n",
              "      <td>ProductId_21</td>\n",
              "      <td>utility_bill</td>\n",
              "      <td>ChannelId_3</td>\n",
              "      <td>20000.0</td>\n",
              "      <td>21800</td>\n",
              "      <td>2018-11-15 03:32:55+00:00</td>\n",
              "      <td>2</td>\n",
              "      <td>0</td>\n",
              "      <td>1</td>\n",
              "      <td>2018</td>\n",
              "      <td>11</td>\n",
              "      <td>15</td>\n",
              "      <td>3</td>\n",
              "    </tr>\n",
              "    <tr>\n",
              "      <th>4</th>\n",
              "      <td>TransactionId_28195</td>\n",
              "      <td>BatchId_38780</td>\n",
              "      <td>AccountId_4841</td>\n",
              "      <td>SubscriptionId_3829</td>\n",
              "      <td>CustomerId_988</td>\n",
              "      <td>UGX</td>\n",
              "      <td>256</td>\n",
              "      <td>ProviderId_4</td>\n",
              "      <td>ProductId_6</td>\n",
              "      <td>financial_services</td>\n",
              "      <td>ChannelId_2</td>\n",
              "      <td>-644.0</td>\n",
              "      <td>644</td>\n",
              "      <td>2018-11-15 03:34:21+00:00</td>\n",
              "      <td>2</td>\n",
              "      <td>0</td>\n",
              "      <td>1</td>\n",
              "      <td>2018</td>\n",
              "      <td>11</td>\n",
              "      <td>15</td>\n",
              "      <td>3</td>\n",
              "    </tr>\n",
              "  </tbody>\n",
              "</table>\n",
              "</div>"
            ],
            "text/plain": [
              "         TransactionId  ... TransactionStartTime_day_of_week\n",
              "0  TransactionId_76871  ...                                3\n",
              "1  TransactionId_73770  ...                                3\n",
              "2  TransactionId_26203  ...                                3\n",
              "3    TransactionId_380  ...                                3\n",
              "4  TransactionId_28195  ...                                3\n",
              "\n",
              "[5 rows x 21 columns]"
            ]
          },
          "metadata": {
            "tags": []
          },
          "execution_count": 155
        }
      ]
    },
    {
      "cell_type": "code",
      "metadata": {
        "id": "UiS6m_fsv3gT",
        "colab_type": "code",
        "colab": {
          "base_uri": "https://localhost:8080/",
          "height": 309
        },
        "outputId": "4f46fc58-260a-40dd-f46a-e70444be6a2c"
      },
      "source": [
        "test.head()"
      ],
      "execution_count": 156,
      "outputs": [
        {
          "output_type": "execute_result",
          "data": {
            "text/html": [
              "<div>\n",
              "<style scoped>\n",
              "    .dataframe tbody tr th:only-of-type {\n",
              "        vertical-align: middle;\n",
              "    }\n",
              "\n",
              "    .dataframe tbody tr th {\n",
              "        vertical-align: top;\n",
              "    }\n",
              "\n",
              "    .dataframe thead th {\n",
              "        text-align: right;\n",
              "    }\n",
              "</style>\n",
              "<table border=\"1\" class=\"dataframe\">\n",
              "  <thead>\n",
              "    <tr style=\"text-align: right;\">\n",
              "      <th></th>\n",
              "      <th>TransactionId</th>\n",
              "      <th>BatchId</th>\n",
              "      <th>AccountId</th>\n",
              "      <th>SubscriptionId</th>\n",
              "      <th>CustomerId</th>\n",
              "      <th>CurrencyCode</th>\n",
              "      <th>CountryCode</th>\n",
              "      <th>ProviderId</th>\n",
              "      <th>ProductId</th>\n",
              "      <th>ProductCategory</th>\n",
              "      <th>ChannelId</th>\n",
              "      <th>Amount</th>\n",
              "      <th>Value</th>\n",
              "      <th>TransactionStartTime</th>\n",
              "      <th>PricingStrategy</th>\n",
              "      <th>Number_of_Batch_Trans</th>\n",
              "      <th>TransactionStartTime_year</th>\n",
              "      <th>TransactionStartTime_month</th>\n",
              "      <th>TransactionStartTime_day</th>\n",
              "      <th>TransactionStartTime_day_of_week</th>\n",
              "    </tr>\n",
              "  </thead>\n",
              "  <tbody>\n",
              "    <tr>\n",
              "      <th>0</th>\n",
              "      <td>TransactionId_50600</td>\n",
              "      <td>BatchId_35028</td>\n",
              "      <td>AccountId_2441</td>\n",
              "      <td>SubscriptionId_4426</td>\n",
              "      <td>CustomerId_2857</td>\n",
              "      <td>UGX</td>\n",
              "      <td>256</td>\n",
              "      <td>ProviderId_5</td>\n",
              "      <td>ProductId_3</td>\n",
              "      <td>airtime</td>\n",
              "      <td>ChannelId_3</td>\n",
              "      <td>1000.0</td>\n",
              "      <td>1000</td>\n",
              "      <td>2019-02-13 10:01:40+00:00</td>\n",
              "      <td>4</td>\n",
              "      <td>1</td>\n",
              "      <td>2019</td>\n",
              "      <td>2</td>\n",
              "      <td>13</td>\n",
              "      <td>2</td>\n",
              "    </tr>\n",
              "    <tr>\n",
              "      <th>1</th>\n",
              "      <td>TransactionId_95109</td>\n",
              "      <td>BatchId_45139</td>\n",
              "      <td>AccountId_3439</td>\n",
              "      <td>SubscriptionId_2643</td>\n",
              "      <td>CustomerId_3874</td>\n",
              "      <td>UGX</td>\n",
              "      <td>256</td>\n",
              "      <td>ProviderId_5</td>\n",
              "      <td>ProductId_15</td>\n",
              "      <td>financial_services</td>\n",
              "      <td>ChannelId_3</td>\n",
              "      <td>2000.0</td>\n",
              "      <td>2000</td>\n",
              "      <td>2019-02-13 10:02:12+00:00</td>\n",
              "      <td>2</td>\n",
              "      <td>1</td>\n",
              "      <td>2019</td>\n",
              "      <td>2</td>\n",
              "      <td>13</td>\n",
              "      <td>2</td>\n",
              "    </tr>\n",
              "    <tr>\n",
              "      <th>2</th>\n",
              "      <td>TransactionId_47357</td>\n",
              "      <td>BatchId_74887</td>\n",
              "      <td>AccountId_4841</td>\n",
              "      <td>SubscriptionId_3829</td>\n",
              "      <td>CustomerId_2857</td>\n",
              "      <td>UGX</td>\n",
              "      <td>256</td>\n",
              "      <td>ProviderId_4</td>\n",
              "      <td>ProductId_6</td>\n",
              "      <td>financial_services</td>\n",
              "      <td>ChannelId_2</td>\n",
              "      <td>-50.0</td>\n",
              "      <td>50</td>\n",
              "      <td>2019-02-13 10:02:30+00:00</td>\n",
              "      <td>2</td>\n",
              "      <td>1</td>\n",
              "      <td>2019</td>\n",
              "      <td>2</td>\n",
              "      <td>13</td>\n",
              "      <td>2</td>\n",
              "    </tr>\n",
              "    <tr>\n",
              "      <th>3</th>\n",
              "      <td>TransactionId_28185</td>\n",
              "      <td>BatchId_11025</td>\n",
              "      <td>AccountId_2685</td>\n",
              "      <td>SubscriptionId_4626</td>\n",
              "      <td>CustomerId_3105</td>\n",
              "      <td>UGX</td>\n",
              "      <td>256</td>\n",
              "      <td>ProviderId_5</td>\n",
              "      <td>ProductId_10</td>\n",
              "      <td>airtime</td>\n",
              "      <td>ChannelId_3</td>\n",
              "      <td>3000.0</td>\n",
              "      <td>3000</td>\n",
              "      <td>2019-02-13 10:02:38+00:00</td>\n",
              "      <td>4</td>\n",
              "      <td>1</td>\n",
              "      <td>2019</td>\n",
              "      <td>2</td>\n",
              "      <td>13</td>\n",
              "      <td>2</td>\n",
              "    </tr>\n",
              "    <tr>\n",
              "      <th>4</th>\n",
              "      <td>TransactionId_22140</td>\n",
              "      <td>BatchId_29804</td>\n",
              "      <td>AccountId_4841</td>\n",
              "      <td>SubscriptionId_3829</td>\n",
              "      <td>CustomerId_3105</td>\n",
              "      <td>UGX</td>\n",
              "      <td>256</td>\n",
              "      <td>ProviderId_4</td>\n",
              "      <td>ProductId_6</td>\n",
              "      <td>financial_services</td>\n",
              "      <td>ChannelId_2</td>\n",
              "      <td>-60.0</td>\n",
              "      <td>60</td>\n",
              "      <td>2019-02-13 10:02:58+00:00</td>\n",
              "      <td>2</td>\n",
              "      <td>1</td>\n",
              "      <td>2019</td>\n",
              "      <td>2</td>\n",
              "      <td>13</td>\n",
              "      <td>2</td>\n",
              "    </tr>\n",
              "  </tbody>\n",
              "</table>\n",
              "</div>"
            ],
            "text/plain": [
              "         TransactionId  ... TransactionStartTime_day_of_week\n",
              "0  TransactionId_50600  ...                                2\n",
              "1  TransactionId_95109  ...                                2\n",
              "2  TransactionId_47357  ...                                2\n",
              "3  TransactionId_28185  ...                                2\n",
              "4  TransactionId_22140  ...                                2\n",
              "\n",
              "[5 rows x 20 columns]"
            ]
          },
          "metadata": {
            "tags": []
          },
          "execution_count": 156
        }
      ]
    },
    {
      "cell_type": "markdown",
      "metadata": {
        "id": "skpCQLVYlIln",
        "colab_type": "text"
      },
      "source": [
        "> We want to find out how many fraudulant transactions there are and what relationship do they have with the Amount."
      ]
    },
    {
      "cell_type": "code",
      "metadata": {
        "scrolled": true,
        "id": "7xhUfXPwgT67",
        "colab_type": "code",
        "colab": {
          "base_uri": "https://localhost:8080/",
          "height": 34
        },
        "outputId": "27100ffd-df19-45b4-b00c-4a1c05d94380"
      },
      "source": [
        "# Count of fraudulant acts\n",
        "\n",
        "train.FraudResult.sum()"
      ],
      "execution_count": 157,
      "outputs": [
        {
          "output_type": "execute_result",
          "data": {
            "text/plain": [
              "193"
            ]
          },
          "metadata": {
            "tags": []
          },
          "execution_count": 157
        }
      ]
    },
    {
      "cell_type": "code",
      "metadata": {
        "id": "spVn0w2-gT6-",
        "colab_type": "code",
        "colab": {
          "base_uri": "https://localhost:8080/",
          "height": 34
        },
        "outputId": "94d9a6e3-ca2c-4014-e3af-cb2eed4bce63"
      },
      "source": [
        "# % which are fraudulant transactions\n",
        "\n",
        "(train.FraudResult.sum()/len(train.FraudResult))*100"
      ],
      "execution_count": 158,
      "outputs": [
        {
          "output_type": "execute_result",
          "data": {
            "text/plain": [
              "0.20175200183981098"
            ]
          },
          "metadata": {
            "tags": []
          },
          "execution_count": 158
        }
      ]
    },
    {
      "cell_type": "code",
      "metadata": {
        "id": "fETREBUelisW",
        "colab_type": "code",
        "colab": {
          "base_uri": "https://localhost:8080/",
          "height": 393
        },
        "outputId": "d4794684-9ef5-4a74-8b4b-1eea9f8da790"
      },
      "source": [
        "plt.figure(figsize=(7,6))\n",
        "sns.countplot(x = 'FraudResult', data = train, palette='hls')\n",
        "plt.xticks(rotation=-45)\n",
        "plt.show()"
      ],
      "execution_count": 159,
      "outputs": [
        {
          "output_type": "display_data",
          "data": {
            "image/png": "[encoded data removed]",
            "text/plain": [
              "<Figure size 504x432 with 1 Axes>"
            ]
          },
          "metadata": {
            "tags": []
          }
        }
      ]
    },
    {
      "cell_type": "code",
      "metadata": {
        "id": "AkEWPi2trGon",
        "colab_type": "code",
        "colab": {
          "base_uri": "https://localhost:8080/",
          "height": 359
        },
        "outputId": "0a7197dd-a2db-4fcf-e060-2d3a07796b18"
      },
      "source": [
        "train.corr()[['FraudResult', 'Amount']]"
      ],
      "execution_count": 162,
      "outputs": [
        {
          "output_type": "execute_result",
          "data": {
            "text/html": [
              "<div>\n",
              "<style scoped>\n",
              "    .dataframe tbody tr th:only-of-type {\n",
              "        vertical-align: middle;\n",
              "    }\n",
              "\n",
              "    .dataframe tbody tr th {\n",
              "        vertical-align: top;\n",
              "    }\n",
              "\n",
              "    .dataframe thead th {\n",
              "        text-align: right;\n",
              "    }\n",
              "</style>\n",
              "<table border=\"1\" class=\"dataframe\">\n",
              "  <thead>\n",
              "    <tr style=\"text-align: right;\">\n",
              "      <th></th>\n",
              "      <th>FraudResult</th>\n",
              "      <th>Amount</th>\n",
              "    </tr>\n",
              "  </thead>\n",
              "  <tbody>\n",
              "    <tr>\n",
              "      <th>CountryCode</th>\n",
              "      <td>NaN</td>\n",
              "      <td>NaN</td>\n",
              "    </tr>\n",
              "    <tr>\n",
              "      <th>Amount</th>\n",
              "      <td>0.557370</td>\n",
              "      <td>1.000000</td>\n",
              "    </tr>\n",
              "    <tr>\n",
              "      <th>Value</th>\n",
              "      <td>0.566739</td>\n",
              "      <td>0.989692</td>\n",
              "    </tr>\n",
              "    <tr>\n",
              "      <th>PricingStrategy</th>\n",
              "      <td>-0.033821</td>\n",
              "      <td>-0.061931</td>\n",
              "    </tr>\n",
              "    <tr>\n",
              "      <th>FraudResult</th>\n",
              "      <td>1.000000</td>\n",
              "      <td>0.557370</td>\n",
              "    </tr>\n",
              "    <tr>\n",
              "      <th>Number_of_Batch_Trans</th>\n",
              "      <td>0.007811</td>\n",
              "      <td>0.004527</td>\n",
              "    </tr>\n",
              "    <tr>\n",
              "      <th>TransactionStartTime_year</th>\n",
              "      <td>0.009811</td>\n",
              "      <td>0.010738</td>\n",
              "    </tr>\n",
              "    <tr>\n",
              "      <th>TransactionStartTime_month</th>\n",
              "      <td>-0.008887</td>\n",
              "      <td>-0.009060</td>\n",
              "    </tr>\n",
              "    <tr>\n",
              "      <th>TransactionStartTime_day</th>\n",
              "      <td>-0.008636</td>\n",
              "      <td>-0.003905</td>\n",
              "    </tr>\n",
              "    <tr>\n",
              "      <th>TransactionStartTime_day_of_week</th>\n",
              "      <td>-0.006913</td>\n",
              "      <td>0.004241</td>\n",
              "    </tr>\n",
              "  </tbody>\n",
              "</table>\n",
              "</div>"
            ],
            "text/plain": [
              "                                  FraudResult    Amount\n",
              "CountryCode                               NaN       NaN\n",
              "Amount                               0.557370  1.000000\n",
              "Value                                0.566739  0.989692\n",
              "PricingStrategy                     -0.033821 -0.061931\n",
              "FraudResult                          1.000000  0.557370\n",
              "Number_of_Batch_Trans                0.007811  0.004527\n",
              "TransactionStartTime_year            0.009811  0.010738\n",
              "TransactionStartTime_month          -0.008887 -0.009060\n",
              "TransactionStartTime_day            -0.008636 -0.003905\n",
              "TransactionStartTime_day_of_week    -0.006913  0.004241"
            ]
          },
          "metadata": {
            "tags": []
          },
          "execution_count": 162
        }
      ]
    },
    {
      "cell_type": "markdown",
      "metadata": {
        "id": "KyuWYkxSrVt0",
        "colab_type": "text"
      },
      "source": [
        "> There is moderate correlation between the FraudResult and the Amount and Value.\n",
        "\n",
        "> There is a very weak correlation between the dates and FraudResult."
      ]
    },
    {
      "cell_type": "code",
      "metadata": {
        "id": "AbcM-OPSmVFl",
        "colab_type": "code",
        "colab": {
          "base_uri": "https://localhost:8080/",
          "height": 276
        },
        "outputId": "87794fa6-a103-4587-9e59-e310f40ac35b"
      },
      "source": [
        "plt.scatter(train.FraudResult, train.Amount)\n",
        "plt.show()"
      ],
      "execution_count": 163,
      "outputs": [
        {
          "output_type": "display_data",
          "data": {
            "image/png": "[encoded data removed]",
            "text/plain": [
              "<Figure size 432x288 with 1 Axes>"
            ]
          },
          "metadata": {
            "tags": []
          }
        }
      ]
    },
    {
      "cell_type": "code",
      "metadata": {
        "id": "_WtKU61QoI9f",
        "colab_type": "code",
        "colab": {
          "base_uri": "https://localhost:8080/",
          "height": 142
        },
        "outputId": "008b1c50-b82c-4a25-a0ad-aac5025329db"
      },
      "source": [
        "train[['Amount', 'Value', 'FraudResult']].groupby('FraudResult').count()"
      ],
      "execution_count": 164,
      "outputs": [
        {
          "output_type": "execute_result",
          "data": {
            "text/html": [
              "<div>\n",
              "<style scoped>\n",
              "    .dataframe tbody tr th:only-of-type {\n",
              "        vertical-align: middle;\n",
              "    }\n",
              "\n",
              "    .dataframe tbody tr th {\n",
              "        vertical-align: top;\n",
              "    }\n",
              "\n",
              "    .dataframe thead th {\n",
              "        text-align: right;\n",
              "    }\n",
              "</style>\n",
              "<table border=\"1\" class=\"dataframe\">\n",
              "  <thead>\n",
              "    <tr style=\"text-align: right;\">\n",
              "      <th></th>\n",
              "      <th>Amount</th>\n",
              "      <th>Value</th>\n",
              "    </tr>\n",
              "    <tr>\n",
              "      <th>FraudResult</th>\n",
              "      <th></th>\n",
              "      <th></th>\n",
              "    </tr>\n",
              "  </thead>\n",
              "  <tbody>\n",
              "    <tr>\n",
              "      <th>0</th>\n",
              "      <td>95469</td>\n",
              "      <td>95469</td>\n",
              "    </tr>\n",
              "    <tr>\n",
              "      <th>1</th>\n",
              "      <td>193</td>\n",
              "      <td>193</td>\n",
              "    </tr>\n",
              "  </tbody>\n",
              "</table>\n",
              "</div>"
            ],
            "text/plain": [
              "             Amount  Value\n",
              "FraudResult               \n",
              "0             95469  95469\n",
              "1               193    193"
            ]
          },
          "metadata": {
            "tags": []
          },
          "execution_count": 164
        }
      ]
    },
    {
      "cell_type": "code",
      "metadata": {
        "id": "oFeXzB61oTUN",
        "colab_type": "code",
        "colab": {
          "base_uri": "https://localhost:8080/",
          "height": 142
        },
        "outputId": "80ce42ab-d5de-4d02-d780-b1d0ed82cc5f"
      },
      "source": [
        "train[['Amount', 'Value', 'FraudResult']].groupby('FraudResult').mean()"
      ],
      "execution_count": 122,
      "outputs": [
        {
          "output_type": "execute_result",
          "data": {
            "text/html": [
              "<div>\n",
              "<style scoped>\n",
              "    .dataframe tbody tr th:only-of-type {\n",
              "        vertical-align: middle;\n",
              "    }\n",
              "\n",
              "    .dataframe tbody tr th {\n",
              "        vertical-align: top;\n",
              "    }\n",
              "\n",
              "    .dataframe thead th {\n",
              "        text-align: right;\n",
              "    }\n",
              "</style>\n",
              "<table border=\"1\" class=\"dataframe\">\n",
              "  <thead>\n",
              "    <tr style=\"text-align: right;\">\n",
              "      <th></th>\n",
              "      <th>Amount</th>\n",
              "      <th>Value</th>\n",
              "    </tr>\n",
              "    <tr>\n",
              "      <th>FraudResult</th>\n",
              "      <th></th>\n",
              "      <th></th>\n",
              "    </tr>\n",
              "  </thead>\n",
              "  <tbody>\n",
              "    <tr>\n",
              "      <th>0</th>\n",
              "      <td>3.627723e+03</td>\n",
              "      <td>6.763227e+03</td>\n",
              "    </tr>\n",
              "    <tr>\n",
              "      <th>1</th>\n",
              "      <td>1.535272e+06</td>\n",
              "      <td>1.561820e+06</td>\n",
              "    </tr>\n",
              "  </tbody>\n",
              "</table>\n",
              "</div>"
            ],
            "text/plain": [
              "                   Amount         Value\n",
              "FraudResult                            \n",
              "0            3.627723e+03  6.763227e+03\n",
              "1            1.535272e+06  1.561820e+06"
            ]
          },
          "metadata": {
            "tags": []
          },
          "execution_count": 122
        }
      ]
    },
    {
      "cell_type": "markdown",
      "metadata": {
        "id": "GO2nN-cwouqd",
        "colab_type": "text"
      },
      "source": [
        "> Fraudulent transactions are associated with large amounts of transactions "
      ]
    },
    {
      "cell_type": "code",
      "metadata": {
        "id": "P1bn0GeVgT7D",
        "colab_type": "code",
        "colab": {
          "base_uri": "https://localhost:8080/",
          "height": 523
        },
        "outputId": "91bbd66e-8ee5-4d15-b595-eb54d8b530c0"
      },
      "source": [
        "train.describe(include='all')"
      ],
      "execution_count": 165,
      "outputs": [
        {
          "output_type": "execute_result",
          "data": {
            "text/html": [
              "<div>\n",
              "<style scoped>\n",
              "    .dataframe tbody tr th:only-of-type {\n",
              "        vertical-align: middle;\n",
              "    }\n",
              "\n",
              "    .dataframe tbody tr th {\n",
              "        vertical-align: top;\n",
              "    }\n",
              "\n",
              "    .dataframe thead th {\n",
              "        text-align: right;\n",
              "    }\n",
              "</style>\n",
              "<table border=\"1\" class=\"dataframe\">\n",
              "  <thead>\n",
              "    <tr style=\"text-align: right;\">\n",
              "      <th></th>\n",
              "      <th>TransactionId</th>\n",
              "      <th>BatchId</th>\n",
              "      <th>AccountId</th>\n",
              "      <th>SubscriptionId</th>\n",
              "      <th>CustomerId</th>\n",
              "      <th>CurrencyCode</th>\n",
              "      <th>CountryCode</th>\n",
              "      <th>ProviderId</th>\n",
              "      <th>ProductId</th>\n",
              "      <th>ProductCategory</th>\n",
              "      <th>ChannelId</th>\n",
              "      <th>Amount</th>\n",
              "      <th>Value</th>\n",
              "      <th>TransactionStartTime</th>\n",
              "      <th>PricingStrategy</th>\n",
              "      <th>FraudResult</th>\n",
              "      <th>Number_of_Batch_Trans</th>\n",
              "      <th>TransactionStartTime_year</th>\n",
              "      <th>TransactionStartTime_month</th>\n",
              "      <th>TransactionStartTime_day</th>\n",
              "      <th>TransactionStartTime_day_of_week</th>\n",
              "    </tr>\n",
              "  </thead>\n",
              "  <tbody>\n",
              "    <tr>\n",
              "      <th>count</th>\n",
              "      <td>95662</td>\n",
              "      <td>95662</td>\n",
              "      <td>95662</td>\n",
              "      <td>95662</td>\n",
              "      <td>95662</td>\n",
              "      <td>95662</td>\n",
              "      <td>95662.0</td>\n",
              "      <td>95662</td>\n",
              "      <td>95662</td>\n",
              "      <td>95662</td>\n",
              "      <td>95662</td>\n",
              "      <td>9.566200e+04</td>\n",
              "      <td>9.566200e+04</td>\n",
              "      <td>95662</td>\n",
              "      <td>95662.000000</td>\n",
              "      <td>95662.000000</td>\n",
              "      <td>95662.000000</td>\n",
              "      <td>95662.000000</td>\n",
              "      <td>95662.000000</td>\n",
              "      <td>95662.000000</td>\n",
              "      <td>95662.000000</td>\n",
              "    </tr>\n",
              "    <tr>\n",
              "      <th>unique</th>\n",
              "      <td>95662</td>\n",
              "      <td>94809</td>\n",
              "      <td>3633</td>\n",
              "      <td>3627</td>\n",
              "      <td>3742</td>\n",
              "      <td>1</td>\n",
              "      <td>NaN</td>\n",
              "      <td>6</td>\n",
              "      <td>23</td>\n",
              "      <td>9</td>\n",
              "      <td>4</td>\n",
              "      <td>NaN</td>\n",
              "      <td>NaN</td>\n",
              "      <td>94556</td>\n",
              "      <td>NaN</td>\n",
              "      <td>NaN</td>\n",
              "      <td>NaN</td>\n",
              "      <td>NaN</td>\n",
              "      <td>NaN</td>\n",
              "      <td>NaN</td>\n",
              "      <td>NaN</td>\n",
              "    </tr>\n",
              "    <tr>\n",
              "      <th>top</th>\n",
              "      <td>TransactionId_108668</td>\n",
              "      <td>BatchId_67019</td>\n",
              "      <td>AccountId_4841</td>\n",
              "      <td>SubscriptionId_3829</td>\n",
              "      <td>CustomerId_7343</td>\n",
              "      <td>UGX</td>\n",
              "      <td>NaN</td>\n",
              "      <td>ProviderId_4</td>\n",
              "      <td>ProductId_6</td>\n",
              "      <td>financial_services</td>\n",
              "      <td>ChannelId_3</td>\n",
              "      <td>NaN</td>\n",
              "      <td>NaN</td>\n",
              "      <td>2018-12-24 16:30:13+00:00</td>\n",
              "      <td>NaN</td>\n",
              "      <td>NaN</td>\n",
              "      <td>NaN</td>\n",
              "      <td>NaN</td>\n",
              "      <td>NaN</td>\n",
              "      <td>NaN</td>\n",
              "      <td>NaN</td>\n",
              "    </tr>\n",
              "    <tr>\n",
              "      <th>freq</th>\n",
              "      <td>1</td>\n",
              "      <td>28</td>\n",
              "      <td>30893</td>\n",
              "      <td>32630</td>\n",
              "      <td>4091</td>\n",
              "      <td>95662</td>\n",
              "      <td>NaN</td>\n",
              "      <td>38189</td>\n",
              "      <td>32635</td>\n",
              "      <td>45405</td>\n",
              "      <td>56935</td>\n",
              "      <td>NaN</td>\n",
              "      <td>NaN</td>\n",
              "      <td>17</td>\n",
              "      <td>NaN</td>\n",
              "      <td>NaN</td>\n",
              "      <td>NaN</td>\n",
              "      <td>NaN</td>\n",
              "      <td>NaN</td>\n",
              "      <td>NaN</td>\n",
              "      <td>NaN</td>\n",
              "    </tr>\n",
              "    <tr>\n",
              "      <th>first</th>\n",
              "      <td>NaN</td>\n",
              "      <td>NaN</td>\n",
              "      <td>NaN</td>\n",
              "      <td>NaN</td>\n",
              "      <td>NaN</td>\n",
              "      <td>NaN</td>\n",
              "      <td>NaN</td>\n",
              "      <td>NaN</td>\n",
              "      <td>NaN</td>\n",
              "      <td>NaN</td>\n",
              "      <td>NaN</td>\n",
              "      <td>NaN</td>\n",
              "      <td>NaN</td>\n",
              "      <td>2018-11-15 02:18:49+00:00</td>\n",
              "      <td>NaN</td>\n",
              "      <td>NaN</td>\n",
              "      <td>NaN</td>\n",
              "      <td>NaN</td>\n",
              "      <td>NaN</td>\n",
              "      <td>NaN</td>\n",
              "      <td>NaN</td>\n",
              "    </tr>\n",
              "    <tr>\n",
              "      <th>last</th>\n",
              "      <td>NaN</td>\n",
              "      <td>NaN</td>\n",
              "      <td>NaN</td>\n",
              "      <td>NaN</td>\n",
              "      <td>NaN</td>\n",
              "      <td>NaN</td>\n",
              "      <td>NaN</td>\n",
              "      <td>NaN</td>\n",
              "      <td>NaN</td>\n",
              "      <td>NaN</td>\n",
              "      <td>NaN</td>\n",
              "      <td>NaN</td>\n",
              "      <td>NaN</td>\n",
              "      <td>2019-02-13 10:01:28+00:00</td>\n",
              "      <td>NaN</td>\n",
              "      <td>NaN</td>\n",
              "      <td>NaN</td>\n",
              "      <td>NaN</td>\n",
              "      <td>NaN</td>\n",
              "      <td>NaN</td>\n",
              "      <td>NaN</td>\n",
              "    </tr>\n",
              "    <tr>\n",
              "      <th>mean</th>\n",
              "      <td>NaN</td>\n",
              "      <td>NaN</td>\n",
              "      <td>NaN</td>\n",
              "      <td>NaN</td>\n",
              "      <td>NaN</td>\n",
              "      <td>NaN</td>\n",
              "      <td>256.0</td>\n",
              "      <td>NaN</td>\n",
              "      <td>NaN</td>\n",
              "      <td>NaN</td>\n",
              "      <td>NaN</td>\n",
              "      <td>6.717846e+03</td>\n",
              "      <td>9.900584e+03</td>\n",
              "      <td>NaN</td>\n",
              "      <td>2.255974</td>\n",
              "      <td>0.002018</td>\n",
              "      <td>1.036859</td>\n",
              "      <td>2018.497115</td>\n",
              "      <td>6.566233</td>\n",
              "      <td>15.902898</td>\n",
              "      <td>3.011907</td>\n",
              "    </tr>\n",
              "    <tr>\n",
              "      <th>std</th>\n",
              "      <td>NaN</td>\n",
              "      <td>NaN</td>\n",
              "      <td>NaN</td>\n",
              "      <td>NaN</td>\n",
              "      <td>NaN</td>\n",
              "      <td>NaN</td>\n",
              "      <td>0.0</td>\n",
              "      <td>NaN</td>\n",
              "      <td>NaN</td>\n",
              "      <td>NaN</td>\n",
              "      <td>NaN</td>\n",
              "      <td>1.233068e+05</td>\n",
              "      <td>1.231221e+05</td>\n",
              "      <td>NaN</td>\n",
              "      <td>0.732924</td>\n",
              "      <td>0.044872</td>\n",
              "      <td>0.593079</td>\n",
              "      <td>0.499994</td>\n",
              "      <td>5.224310</td>\n",
              "      <td>8.962822</td>\n",
              "      <td>1.863651</td>\n",
              "    </tr>\n",
              "    <tr>\n",
              "      <th>min</th>\n",
              "      <td>NaN</td>\n",
              "      <td>NaN</td>\n",
              "      <td>NaN</td>\n",
              "      <td>NaN</td>\n",
              "      <td>NaN</td>\n",
              "      <td>NaN</td>\n",
              "      <td>256.0</td>\n",
              "      <td>NaN</td>\n",
              "      <td>NaN</td>\n",
              "      <td>NaN</td>\n",
              "      <td>NaN</td>\n",
              "      <td>-1.000000e+06</td>\n",
              "      <td>2.000000e+00</td>\n",
              "      <td>NaN</td>\n",
              "      <td>0.000000</td>\n",
              "      <td>0.000000</td>\n",
              "      <td>1.000000</td>\n",
              "      <td>2018.000000</td>\n",
              "      <td>1.000000</td>\n",
              "      <td>1.000000</td>\n",
              "      <td>0.000000</td>\n",
              "    </tr>\n",
              "    <tr>\n",
              "      <th>25%</th>\n",
              "      <td>NaN</td>\n",
              "      <td>NaN</td>\n",
              "      <td>NaN</td>\n",
              "      <td>NaN</td>\n",
              "      <td>NaN</td>\n",
              "      <td>NaN</td>\n",
              "      <td>256.0</td>\n",
              "      <td>NaN</td>\n",
              "      <td>NaN</td>\n",
              "      <td>NaN</td>\n",
              "      <td>NaN</td>\n",
              "      <td>-5.000000e+01</td>\n",
              "      <td>2.750000e+02</td>\n",
              "      <td>NaN</td>\n",
              "      <td>2.000000</td>\n",
              "      <td>0.000000</td>\n",
              "      <td>1.000000</td>\n",
              "      <td>2018.000000</td>\n",
              "      <td>1.000000</td>\n",
              "      <td>8.000000</td>\n",
              "      <td>1.000000</td>\n",
              "    </tr>\n",
              "    <tr>\n",
              "      <th>50%</th>\n",
              "      <td>NaN</td>\n",
              "      <td>NaN</td>\n",
              "      <td>NaN</td>\n",
              "      <td>NaN</td>\n",
              "      <td>NaN</td>\n",
              "      <td>NaN</td>\n",
              "      <td>256.0</td>\n",
              "      <td>NaN</td>\n",
              "      <td>NaN</td>\n",
              "      <td>NaN</td>\n",
              "      <td>NaN</td>\n",
              "      <td>1.000000e+03</td>\n",
              "      <td>1.000000e+03</td>\n",
              "      <td>NaN</td>\n",
              "      <td>2.000000</td>\n",
              "      <td>0.000000</td>\n",
              "      <td>1.000000</td>\n",
              "      <td>2018.000000</td>\n",
              "      <td>11.000000</td>\n",
              "      <td>16.000000</td>\n",
              "      <td>3.000000</td>\n",
              "    </tr>\n",
              "    <tr>\n",
              "      <th>75%</th>\n",
              "      <td>NaN</td>\n",
              "      <td>NaN</td>\n",
              "      <td>NaN</td>\n",
              "      <td>NaN</td>\n",
              "      <td>NaN</td>\n",
              "      <td>NaN</td>\n",
              "      <td>256.0</td>\n",
              "      <td>NaN</td>\n",
              "      <td>NaN</td>\n",
              "      <td>NaN</td>\n",
              "      <td>NaN</td>\n",
              "      <td>2.800000e+03</td>\n",
              "      <td>5.000000e+03</td>\n",
              "      <td>NaN</td>\n",
              "      <td>2.000000</td>\n",
              "      <td>0.000000</td>\n",
              "      <td>1.000000</td>\n",
              "      <td>2019.000000</td>\n",
              "      <td>12.000000</td>\n",
              "      <td>24.000000</td>\n",
              "      <td>4.000000</td>\n",
              "    </tr>\n",
              "    <tr>\n",
              "      <th>max</th>\n",
              "      <td>NaN</td>\n",
              "      <td>NaN</td>\n",
              "      <td>NaN</td>\n",
              "      <td>NaN</td>\n",
              "      <td>NaN</td>\n",
              "      <td>NaN</td>\n",
              "      <td>256.0</td>\n",
              "      <td>NaN</td>\n",
              "      <td>NaN</td>\n",
              "      <td>NaN</td>\n",
              "      <td>NaN</td>\n",
              "      <td>9.880000e+06</td>\n",
              "      <td>9.880000e+06</td>\n",
              "      <td>NaN</td>\n",
              "      <td>4.000000</td>\n",
              "      <td>1.000000</td>\n",
              "      <td>28.000000</td>\n",
              "      <td>2019.000000</td>\n",
              "      <td>12.000000</td>\n",
              "      <td>31.000000</td>\n",
              "      <td>6.000000</td>\n",
              "    </tr>\n",
              "  </tbody>\n",
              "</table>\n",
              "</div>"
            ],
            "text/plain": [
              "               TransactionId  ... TransactionStartTime_day_of_week\n",
              "count                  95662  ...                     95662.000000\n",
              "unique                 95662  ...                              NaN\n",
              "top     TransactionId_108668  ...                              NaN\n",
              "freq                       1  ...                              NaN\n",
              "first                    NaN  ...                              NaN\n",
              "last                     NaN  ...                              NaN\n",
              "mean                     NaN  ...                         3.011907\n",
              "std                      NaN  ...                         1.863651\n",
              "min                      NaN  ...                         0.000000\n",
              "25%                      NaN  ...                         1.000000\n",
              "50%                      NaN  ...                         3.000000\n",
              "75%                      NaN  ...                         4.000000\n",
              "max                      NaN  ...                         6.000000\n",
              "\n",
              "[13 rows x 21 columns]"
            ]
          },
          "metadata": {
            "tags": []
          },
          "execution_count": 165
        }
      ]
    },
    {
      "cell_type": "markdown",
      "metadata": {
        "id": "6F7TbIGlpD3d",
        "colab_type": "text"
      },
      "source": [
        "## Encoding Categorical Variables"
      ]
    },
    {
      "cell_type": "code",
      "metadata": {
        "id": "HZ6gD4cf9N-I",
        "colab_type": "code",
        "colab": {
          "base_uri": "https://localhost:8080/",
          "height": 309
        },
        "outputId": "5d9f8d64-8abb-4140-88e9-149986697fbb"
      },
      "source": [
        "train.head()"
      ],
      "execution_count": 177,
      "outputs": [
        {
          "output_type": "execute_result",
          "data": {
            "text/html": [
              "<div>\n",
              "<style scoped>\n",
              "    .dataframe tbody tr th:only-of-type {\n",
              "        vertical-align: middle;\n",
              "    }\n",
              "\n",
              "    .dataframe tbody tr th {\n",
              "        vertical-align: top;\n",
              "    }\n",
              "\n",
              "    .dataframe thead th {\n",
              "        text-align: right;\n",
              "    }\n",
              "</style>\n",
              "<table border=\"1\" class=\"dataframe\">\n",
              "  <thead>\n",
              "    <tr style=\"text-align: right;\">\n",
              "      <th></th>\n",
              "      <th>TransactionId</th>\n",
              "      <th>BatchId</th>\n",
              "      <th>AccountId</th>\n",
              "      <th>SubscriptionId</th>\n",
              "      <th>CustomerId</th>\n",
              "      <th>CurrencyCode</th>\n",
              "      <th>CountryCode</th>\n",
              "      <th>ProviderId</th>\n",
              "      <th>ProductId</th>\n",
              "      <th>ProductCategory</th>\n",
              "      <th>ChannelId</th>\n",
              "      <th>Amount</th>\n",
              "      <th>Value</th>\n",
              "      <th>TransactionStartTime</th>\n",
              "      <th>PricingStrategy</th>\n",
              "      <th>FraudResult</th>\n",
              "      <th>Number_of_Batch_Trans</th>\n",
              "      <th>TransactionStartTime_year</th>\n",
              "      <th>TransactionStartTime_month</th>\n",
              "      <th>TransactionStartTime_day</th>\n",
              "      <th>TransactionStartTime_day_of_week</th>\n",
              "      <th>Number_of_Transactions</th>\n",
              "    </tr>\n",
              "  </thead>\n",
              "  <tbody>\n",
              "    <tr>\n",
              "      <th>0</th>\n",
              "      <td>TransactionId_76871</td>\n",
              "      <td>BatchId_36123</td>\n",
              "      <td>AccountId_3957</td>\n",
              "      <td>SubscriptionId_887</td>\n",
              "      <td>CustomerId_4406</td>\n",
              "      <td>UGX</td>\n",
              "      <td>256</td>\n",
              "      <td>ProviderId_6</td>\n",
              "      <td>ProductId_10</td>\n",
              "      <td>airtime</td>\n",
              "      <td>ChannelId_3</td>\n",
              "      <td>1000.0</td>\n",
              "      <td>1000</td>\n",
              "      <td>2018-11-15 02:18:49+00:00</td>\n",
              "      <td>2</td>\n",
              "      <td>0</td>\n",
              "      <td>1</td>\n",
              "      <td>2018</td>\n",
              "      <td>11</td>\n",
              "      <td>15</td>\n",
              "      <td>3</td>\n",
              "      <td>66</td>\n",
              "    </tr>\n",
              "    <tr>\n",
              "      <th>1</th>\n",
              "      <td>TransactionId_73770</td>\n",
              "      <td>BatchId_15642</td>\n",
              "      <td>AccountId_4841</td>\n",
              "      <td>SubscriptionId_3829</td>\n",
              "      <td>CustomerId_4406</td>\n",
              "      <td>UGX</td>\n",
              "      <td>256</td>\n",
              "      <td>ProviderId_4</td>\n",
              "      <td>ProductId_6</td>\n",
              "      <td>financial_services</td>\n",
              "      <td>ChannelId_2</td>\n",
              "      <td>-20.0</td>\n",
              "      <td>20</td>\n",
              "      <td>2018-11-15 02:19:08+00:00</td>\n",
              "      <td>2</td>\n",
              "      <td>0</td>\n",
              "      <td>1</td>\n",
              "      <td>2018</td>\n",
              "      <td>11</td>\n",
              "      <td>15</td>\n",
              "      <td>3</td>\n",
              "      <td>30893</td>\n",
              "    </tr>\n",
              "    <tr>\n",
              "      <th>2</th>\n",
              "      <td>TransactionId_26203</td>\n",
              "      <td>BatchId_53941</td>\n",
              "      <td>AccountId_4229</td>\n",
              "      <td>SubscriptionId_222</td>\n",
              "      <td>CustomerId_4683</td>\n",
              "      <td>UGX</td>\n",
              "      <td>256</td>\n",
              "      <td>ProviderId_6</td>\n",
              "      <td>ProductId_1</td>\n",
              "      <td>airtime</td>\n",
              "      <td>ChannelId_3</td>\n",
              "      <td>500.0</td>\n",
              "      <td>500</td>\n",
              "      <td>2018-11-15 02:44:21+00:00</td>\n",
              "      <td>2</td>\n",
              "      <td>0</td>\n",
              "      <td>1</td>\n",
              "      <td>2018</td>\n",
              "      <td>11</td>\n",
              "      <td>15</td>\n",
              "      <td>3</td>\n",
              "      <td>2</td>\n",
              "    </tr>\n",
              "    <tr>\n",
              "      <th>3</th>\n",
              "      <td>TransactionId_380</td>\n",
              "      <td>BatchId_102363</td>\n",
              "      <td>AccountId_648</td>\n",
              "      <td>SubscriptionId_2185</td>\n",
              "      <td>CustomerId_988</td>\n",
              "      <td>UGX</td>\n",
              "      <td>256</td>\n",
              "      <td>ProviderId_1</td>\n",
              "      <td>ProductId_21</td>\n",
              "      <td>utility_bill</td>\n",
              "      <td>ChannelId_3</td>\n",
              "      <td>20000.0</td>\n",
              "      <td>21800</td>\n",
              "      <td>2018-11-15 03:32:55+00:00</td>\n",
              "      <td>2</td>\n",
              "      <td>0</td>\n",
              "      <td>1</td>\n",
              "      <td>2018</td>\n",
              "      <td>11</td>\n",
              "      <td>15</td>\n",
              "      <td>3</td>\n",
              "      <td>26</td>\n",
              "    </tr>\n",
              "    <tr>\n",
              "      <th>4</th>\n",
              "      <td>TransactionId_28195</td>\n",
              "      <td>BatchId_38780</td>\n",
              "      <td>AccountId_4841</td>\n",
              "      <td>SubscriptionId_3829</td>\n",
              "      <td>CustomerId_988</td>\n",
              "      <td>UGX</td>\n",
              "      <td>256</td>\n",
              "      <td>ProviderId_4</td>\n",
              "      <td>ProductId_6</td>\n",
              "      <td>financial_services</td>\n",
              "      <td>ChannelId_2</td>\n",
              "      <td>-644.0</td>\n",
              "      <td>644</td>\n",
              "      <td>2018-11-15 03:34:21+00:00</td>\n",
              "      <td>2</td>\n",
              "      <td>0</td>\n",
              "      <td>1</td>\n",
              "      <td>2018</td>\n",
              "      <td>11</td>\n",
              "      <td>15</td>\n",
              "      <td>3</td>\n",
              "      <td>30893</td>\n",
              "    </tr>\n",
              "  </tbody>\n",
              "</table>\n",
              "</div>"
            ],
            "text/plain": [
              "         TransactionId  ... Number_of_Transactions\n",
              "0  TransactionId_76871  ...                     66\n",
              "1  TransactionId_73770  ...                  30893\n",
              "2  TransactionId_26203  ...                      2\n",
              "3    TransactionId_380  ...                     26\n",
              "4  TransactionId_28195  ...                  30893\n",
              "\n",
              "[5 rows x 22 columns]"
            ]
          },
          "metadata": {
            "tags": []
          },
          "execution_count": 177
        }
      ]
    },
    {
      "cell_type": "code",
      "metadata": {
        "id": "kmwMNBMIwCRT",
        "colab_type": "code",
        "colab": {
          "base_uri": "https://localhost:8080/",
          "height": 309
        },
        "outputId": "316d41e1-29dc-40e4-8b74-53646298424b"
      },
      "source": [
        "df = pd.concat([train, test], sort=False)\n",
        "df.head()"
      ],
      "execution_count": 178,
      "outputs": [
        {
          "output_type": "execute_result",
          "data": {
            "text/html": [
              "<div>\n",
              "<style scoped>\n",
              "    .dataframe tbody tr th:only-of-type {\n",
              "        vertical-align: middle;\n",
              "    }\n",
              "\n",
              "    .dataframe tbody tr th {\n",
              "        vertical-align: top;\n",
              "    }\n",
              "\n",
              "    .dataframe thead th {\n",
              "        text-align: right;\n",
              "    }\n",
              "</style>\n",
              "<table border=\"1\" class=\"dataframe\">\n",
              "  <thead>\n",
              "    <tr style=\"text-align: right;\">\n",
              "      <th></th>\n",
              "      <th>TransactionId</th>\n",
              "      <th>BatchId</th>\n",
              "      <th>AccountId</th>\n",
              "      <th>SubscriptionId</th>\n",
              "      <th>CustomerId</th>\n",
              "      <th>CurrencyCode</th>\n",
              "      <th>CountryCode</th>\n",
              "      <th>ProviderId</th>\n",
              "      <th>ProductId</th>\n",
              "      <th>ProductCategory</th>\n",
              "      <th>ChannelId</th>\n",
              "      <th>Amount</th>\n",
              "      <th>Value</th>\n",
              "      <th>TransactionStartTime</th>\n",
              "      <th>PricingStrategy</th>\n",
              "      <th>FraudResult</th>\n",
              "      <th>Number_of_Batch_Trans</th>\n",
              "      <th>TransactionStartTime_year</th>\n",
              "      <th>TransactionStartTime_month</th>\n",
              "      <th>TransactionStartTime_day</th>\n",
              "      <th>TransactionStartTime_day_of_week</th>\n",
              "      <th>Number_of_Transactions</th>\n",
              "    </tr>\n",
              "  </thead>\n",
              "  <tbody>\n",
              "    <tr>\n",
              "      <th>0</th>\n",
              "      <td>TransactionId_76871</td>\n",
              "      <td>BatchId_36123</td>\n",
              "      <td>AccountId_3957</td>\n",
              "      <td>SubscriptionId_887</td>\n",
              "      <td>CustomerId_4406</td>\n",
              "      <td>UGX</td>\n",
              "      <td>256</td>\n",
              "      <td>ProviderId_6</td>\n",
              "      <td>ProductId_10</td>\n",
              "      <td>airtime</td>\n",
              "      <td>ChannelId_3</td>\n",
              "      <td>1000.0</td>\n",
              "      <td>1000</td>\n",
              "      <td>2018-11-15 02:18:49+00:00</td>\n",
              "      <td>2</td>\n",
              "      <td>0.0</td>\n",
              "      <td>1</td>\n",
              "      <td>2018</td>\n",
              "      <td>11</td>\n",
              "      <td>15</td>\n",
              "      <td>3</td>\n",
              "      <td>66</td>\n",
              "    </tr>\n",
              "    <tr>\n",
              "      <th>1</th>\n",
              "      <td>TransactionId_73770</td>\n",
              "      <td>BatchId_15642</td>\n",
              "      <td>AccountId_4841</td>\n",
              "      <td>SubscriptionId_3829</td>\n",
              "      <td>CustomerId_4406</td>\n",
              "      <td>UGX</td>\n",
              "      <td>256</td>\n",
              "      <td>ProviderId_4</td>\n",
              "      <td>ProductId_6</td>\n",
              "      <td>financial_services</td>\n",
              "      <td>ChannelId_2</td>\n",
              "      <td>-20.0</td>\n",
              "      <td>20</td>\n",
              "      <td>2018-11-15 02:19:08+00:00</td>\n",
              "      <td>2</td>\n",
              "      <td>0.0</td>\n",
              "      <td>1</td>\n",
              "      <td>2018</td>\n",
              "      <td>11</td>\n",
              "      <td>15</td>\n",
              "      <td>3</td>\n",
              "      <td>30893</td>\n",
              "    </tr>\n",
              "    <tr>\n",
              "      <th>2</th>\n",
              "      <td>TransactionId_26203</td>\n",
              "      <td>BatchId_53941</td>\n",
              "      <td>AccountId_4229</td>\n",
              "      <td>SubscriptionId_222</td>\n",
              "      <td>CustomerId_4683</td>\n",
              "      <td>UGX</td>\n",
              "      <td>256</td>\n",
              "      <td>ProviderId_6</td>\n",
              "      <td>ProductId_1</td>\n",
              "      <td>airtime</td>\n",
              "      <td>ChannelId_3</td>\n",
              "      <td>500.0</td>\n",
              "      <td>500</td>\n",
              "      <td>2018-11-15 02:44:21+00:00</td>\n",
              "      <td>2</td>\n",
              "      <td>0.0</td>\n",
              "      <td>1</td>\n",
              "      <td>2018</td>\n",
              "      <td>11</td>\n",
              "      <td>15</td>\n",
              "      <td>3</td>\n",
              "      <td>2</td>\n",
              "    </tr>\n",
              "    <tr>\n",
              "      <th>3</th>\n",
              "      <td>TransactionId_380</td>\n",
              "      <td>BatchId_102363</td>\n",
              "      <td>AccountId_648</td>\n",
              "      <td>SubscriptionId_2185</td>\n",
              "      <td>CustomerId_988</td>\n",
              "      <td>UGX</td>\n",
              "      <td>256</td>\n",
              "      <td>ProviderId_1</td>\n",
              "      <td>ProductId_21</td>\n",
              "      <td>utility_bill</td>\n",
              "      <td>ChannelId_3</td>\n",
              "      <td>20000.0</td>\n",
              "      <td>21800</td>\n",
              "      <td>2018-11-15 03:32:55+00:00</td>\n",
              "      <td>2</td>\n",
              "      <td>0.0</td>\n",
              "      <td>1</td>\n",
              "      <td>2018</td>\n",
              "      <td>11</td>\n",
              "      <td>15</td>\n",
              "      <td>3</td>\n",
              "      <td>26</td>\n",
              "    </tr>\n",
              "    <tr>\n",
              "      <th>4</th>\n",
              "      <td>TransactionId_28195</td>\n",
              "      <td>BatchId_38780</td>\n",
              "      <td>AccountId_4841</td>\n",
              "      <td>SubscriptionId_3829</td>\n",
              "      <td>CustomerId_988</td>\n",
              "      <td>UGX</td>\n",
              "      <td>256</td>\n",
              "      <td>ProviderId_4</td>\n",
              "      <td>ProductId_6</td>\n",
              "      <td>financial_services</td>\n",
              "      <td>ChannelId_2</td>\n",
              "      <td>-644.0</td>\n",
              "      <td>644</td>\n",
              "      <td>2018-11-15 03:34:21+00:00</td>\n",
              "      <td>2</td>\n",
              "      <td>0.0</td>\n",
              "      <td>1</td>\n",
              "      <td>2018</td>\n",
              "      <td>11</td>\n",
              "      <td>15</td>\n",
              "      <td>3</td>\n",
              "      <td>30893</td>\n",
              "    </tr>\n",
              "  </tbody>\n",
              "</table>\n",
              "</div>"
            ],
            "text/plain": [
              "         TransactionId  ... Number_of_Transactions\n",
              "0  TransactionId_76871  ...                     66\n",
              "1  TransactionId_73770  ...                  30893\n",
              "2  TransactionId_26203  ...                      2\n",
              "3    TransactionId_380  ...                     26\n",
              "4  TransactionId_28195  ...                  30893\n",
              "\n",
              "[5 rows x 22 columns]"
            ]
          },
          "metadata": {
            "tags": []
          },
          "execution_count": 178
        }
      ]
    },
    {
      "cell_type": "markdown",
      "metadata": {
        "id": "ehhkreirij1f",
        "colab_type": "text"
      },
      "source": [
        "> I will delete the columns that can be representative of a user identifier. I've allocated columns with over 90000 unique values to this category."
      ]
    },
    {
      "cell_type": "code",
      "metadata": {
        "id": "4g3P2MPigT7P",
        "colab_type": "code",
        "colab": {}
      },
      "source": [
        "drop_columns = ['TransactionId', 'BatchId', 'AccountId', 'SubscriptionId', 'CustomerId', 'CurrencyCode', 'CountryCode', 'TransactionStartTime']"
      ],
      "execution_count": 0,
      "outputs": []
    },
    {
      "cell_type": "code",
      "metadata": {
        "id": "mtbyWQMogT7a",
        "colab_type": "code",
        "colab": {
          "base_uri": "https://localhost:8080/",
          "height": 224
        },
        "outputId": "23eee1b2-3778-4596-9f72-a1d863cfb139"
      },
      "source": [
        "df = df.drop(drop_columns, axis = 1)\n",
        "df.head()"
      ],
      "execution_count": 180,
      "outputs": [
        {
          "output_type": "execute_result",
          "data": {
            "text/html": [
              "<div>\n",
              "<style scoped>\n",
              "    .dataframe tbody tr th:only-of-type {\n",
              "        vertical-align: middle;\n",
              "    }\n",
              "\n",
              "    .dataframe tbody tr th {\n",
              "        vertical-align: top;\n",
              "    }\n",
              "\n",
              "    .dataframe thead th {\n",
              "        text-align: right;\n",
              "    }\n",
              "</style>\n",
              "<table border=\"1\" class=\"dataframe\">\n",
              "  <thead>\n",
              "    <tr style=\"text-align: right;\">\n",
              "      <th></th>\n",
              "      <th>ProviderId</th>\n",
              "      <th>ProductId</th>\n",
              "      <th>ProductCategory</th>\n",
              "      <th>ChannelId</th>\n",
              "      <th>Amount</th>\n",
              "      <th>Value</th>\n",
              "      <th>PricingStrategy</th>\n",
              "      <th>FraudResult</th>\n",
              "      <th>Number_of_Batch_Trans</th>\n",
              "      <th>TransactionStartTime_year</th>\n",
              "      <th>TransactionStartTime_month</th>\n",
              "      <th>TransactionStartTime_day</th>\n",
              "      <th>TransactionStartTime_day_of_week</th>\n",
              "      <th>Number_of_Transactions</th>\n",
              "    </tr>\n",
              "  </thead>\n",
              "  <tbody>\n",
              "    <tr>\n",
              "      <th>0</th>\n",
              "      <td>ProviderId_6</td>\n",
              "      <td>ProductId_10</td>\n",
              "      <td>airtime</td>\n",
              "      <td>ChannelId_3</td>\n",
              "      <td>1000.0</td>\n",
              "      <td>1000</td>\n",
              "      <td>2</td>\n",
              "      <td>0.0</td>\n",
              "      <td>1</td>\n",
              "      <td>2018</td>\n",
              "      <td>11</td>\n",
              "      <td>15</td>\n",
              "      <td>3</td>\n",
              "      <td>66</td>\n",
              "    </tr>\n",
              "    <tr>\n",
              "      <th>1</th>\n",
              "      <td>ProviderId_4</td>\n",
              "      <td>ProductId_6</td>\n",
              "      <td>financial_services</td>\n",
              "      <td>ChannelId_2</td>\n",
              "      <td>-20.0</td>\n",
              "      <td>20</td>\n",
              "      <td>2</td>\n",
              "      <td>0.0</td>\n",
              "      <td>1</td>\n",
              "      <td>2018</td>\n",
              "      <td>11</td>\n",
              "      <td>15</td>\n",
              "      <td>3</td>\n",
              "      <td>30893</td>\n",
              "    </tr>\n",
              "    <tr>\n",
              "      <th>2</th>\n",
              "      <td>ProviderId_6</td>\n",
              "      <td>ProductId_1</td>\n",
              "      <td>airtime</td>\n",
              "      <td>ChannelId_3</td>\n",
              "      <td>500.0</td>\n",
              "      <td>500</td>\n",
              "      <td>2</td>\n",
              "      <td>0.0</td>\n",
              "      <td>1</td>\n",
              "      <td>2018</td>\n",
              "      <td>11</td>\n",
              "      <td>15</td>\n",
              "      <td>3</td>\n",
              "      <td>2</td>\n",
              "    </tr>\n",
              "    <tr>\n",
              "      <th>3</th>\n",
              "      <td>ProviderId_1</td>\n",
              "      <td>ProductId_21</td>\n",
              "      <td>utility_bill</td>\n",
              "      <td>ChannelId_3</td>\n",
              "      <td>20000.0</td>\n",
              "      <td>21800</td>\n",
              "      <td>2</td>\n",
              "      <td>0.0</td>\n",
              "      <td>1</td>\n",
              "      <td>2018</td>\n",
              "      <td>11</td>\n",
              "      <td>15</td>\n",
              "      <td>3</td>\n",
              "      <td>26</td>\n",
              "    </tr>\n",
              "    <tr>\n",
              "      <th>4</th>\n",
              "      <td>ProviderId_4</td>\n",
              "      <td>ProductId_6</td>\n",
              "      <td>financial_services</td>\n",
              "      <td>ChannelId_2</td>\n",
              "      <td>-644.0</td>\n",
              "      <td>644</td>\n",
              "      <td>2</td>\n",
              "      <td>0.0</td>\n",
              "      <td>1</td>\n",
              "      <td>2018</td>\n",
              "      <td>11</td>\n",
              "      <td>15</td>\n",
              "      <td>3</td>\n",
              "      <td>30893</td>\n",
              "    </tr>\n",
              "  </tbody>\n",
              "</table>\n",
              "</div>"
            ],
            "text/plain": [
              "     ProviderId  ... Number_of_Transactions\n",
              "0  ProviderId_6  ...                     66\n",
              "1  ProviderId_4  ...                  30893\n",
              "2  ProviderId_6  ...                      2\n",
              "3  ProviderId_1  ...                     26\n",
              "4  ProviderId_4  ...                  30893\n",
              "\n",
              "[5 rows x 14 columns]"
            ]
          },
          "metadata": {
            "tags": []
          },
          "execution_count": 180
        }
      ]
    },
    {
      "cell_type": "code",
      "metadata": {
        "id": "Bd6fP0G4_pHh",
        "colab_type": "code",
        "colab": {
          "base_uri": "https://localhost:8080/",
          "height": 323
        },
        "outputId": "ce530db4-f6b6-4c7d-c823-71388c9df049"
      },
      "source": [
        "df.info()"
      ],
      "execution_count": 172,
      "outputs": [
        {
          "output_type": "stream",
          "text": [
            "<class 'pandas.core.frame.DataFrame'>\n",
            "Int64Index: 140681 entries, 0 to 45018\n",
            "Data columns (total 13 columns):\n",
            "ProviderId                          140681 non-null object\n",
            "ProductId                           140681 non-null object\n",
            "ProductCategory                     140681 non-null object\n",
            "ChannelId                           140681 non-null object\n",
            "Amount                              140681 non-null float64\n",
            "Value                               140681 non-null int64\n",
            "PricingStrategy                     140681 non-null int64\n",
            "FraudResult                         95662 non-null float64\n",
            "Number_of_Batch_Trans               140681 non-null int64\n",
            "TransactionStartTime_year           140681 non-null int64\n",
            "TransactionStartTime_month          140681 non-null int64\n",
            "TransactionStartTime_day            140681 non-null int64\n",
            "TransactionStartTime_day_of_week    140681 non-null int64\n",
            "dtypes: float64(2), int64(7), object(4)\n",
            "memory usage: 15.0+ MB\n"
          ],
          "name": "stdout"
        }
      ]
    },
    {
      "cell_type": "code",
      "metadata": {
        "id": "_2RuWS9aAqJr",
        "colab_type": "code",
        "colab": {}
      },
      "source": [
        "?pd.get_dummies()"
      ],
      "execution_count": 0,
      "outputs": []
    },
    {
      "cell_type": "markdown",
      "metadata": {
        "id": "IiRIpcoWjSim",
        "colab_type": "text"
      },
      "source": [
        "> Create k-1 dummy variables for each category, where k stands for the number of classes in the variable."
      ]
    },
    {
      "cell_type": "code",
      "metadata": {
        "scrolled": true,
        "id": "EChRqOgfgT7f",
        "colab_type": "code",
        "colab": {
          "base_uri": "https://localhost:8080/",
          "height": 224
        },
        "outputId": "7233e75c-3043-4393-c3b7-dae70d87dc8d"
      },
      "source": [
        "# create dummy variables\n",
        "\n",
        "prefix = ['', '', '', '', 'PricingStrategy']\n",
        "columns = ['ProviderId', 'ProductId', 'ProductCategory', 'ChannelId', 'PricingStrategy']\n",
        "encoded_df = df.copy()\n",
        "for i in range(len(columns)):\n",
        "    encoded_df = pd.concat([encoded_df, pd.get_dummies(encoded_df[columns[i]], prefix = prefix[i], drop_first=True)], axis = 1)\n",
        "encoded_df.drop(columns, axis=1, inplace=True)\n",
        "encoded_df.head()"
      ],
      "execution_count": 181,
      "outputs": [
        {
          "output_type": "execute_result",
          "data": {
            "text/html": [
              "<div>\n",
              "<style scoped>\n",
              "    .dataframe tbody tr th:only-of-type {\n",
              "        vertical-align: middle;\n",
              "    }\n",
              "\n",
              "    .dataframe tbody tr th {\n",
              "        vertical-align: top;\n",
              "    }\n",
              "\n",
              "    .dataframe thead th {\n",
              "        text-align: right;\n",
              "    }\n",
              "</style>\n",
              "<table border=\"1\" class=\"dataframe\">\n",
              "  <thead>\n",
              "    <tr style=\"text-align: right;\">\n",
              "      <th></th>\n",
              "      <th>Amount</th>\n",
              "      <th>Value</th>\n",
              "      <th>FraudResult</th>\n",
              "      <th>Number_of_Batch_Trans</th>\n",
              "      <th>TransactionStartTime_year</th>\n",
              "      <th>TransactionStartTime_month</th>\n",
              "      <th>TransactionStartTime_day</th>\n",
              "      <th>TransactionStartTime_day_of_week</th>\n",
              "      <th>Number_of_Transactions</th>\n",
              "      <th>_ProviderId_2</th>\n",
              "      <th>_ProviderId_3</th>\n",
              "      <th>_ProviderId_4</th>\n",
              "      <th>_ProviderId_5</th>\n",
              "      <th>_ProviderId_6</th>\n",
              "      <th>_ProductId_10</th>\n",
              "      <th>_ProductId_11</th>\n",
              "      <th>_ProductId_12</th>\n",
              "      <th>_ProductId_13</th>\n",
              "      <th>_ProductId_14</th>\n",
              "      <th>_ProductId_15</th>\n",
              "      <th>_ProductId_16</th>\n",
              "      <th>_ProductId_17</th>\n",
              "      <th>_ProductId_18</th>\n",
              "      <th>_ProductId_19</th>\n",
              "      <th>_ProductId_2</th>\n",
              "      <th>_ProductId_20</th>\n",
              "      <th>_ProductId_21</th>\n",
              "      <th>_ProductId_22</th>\n",
              "      <th>_ProductId_23</th>\n",
              "      <th>_ProductId_24</th>\n",
              "      <th>_ProductId_25</th>\n",
              "      <th>_ProductId_26</th>\n",
              "      <th>_ProductId_27</th>\n",
              "      <th>_ProductId_3</th>\n",
              "      <th>_ProductId_4</th>\n",
              "      <th>_ProductId_5</th>\n",
              "      <th>_ProductId_6</th>\n",
              "      <th>_ProductId_7</th>\n",
              "      <th>_ProductId_8</th>\n",
              "      <th>_ProductId_9</th>\n",
              "      <th>_data_bundles</th>\n",
              "      <th>_financial_services</th>\n",
              "      <th>_movies</th>\n",
              "      <th>_other</th>\n",
              "      <th>_retail</th>\n",
              "      <th>_ticket</th>\n",
              "      <th>_transport</th>\n",
              "      <th>_tv</th>\n",
              "      <th>_utility_bill</th>\n",
              "      <th>_ChannelId_2</th>\n",
              "      <th>_ChannelId_3</th>\n",
              "      <th>_ChannelId_4</th>\n",
              "      <th>_ChannelId_5</th>\n",
              "      <th>PricingStrategy_1</th>\n",
              "      <th>PricingStrategy_2</th>\n",
              "      <th>PricingStrategy_4</th>\n",
              "    </tr>\n",
              "  </thead>\n",
              "  <tbody>\n",
              "    <tr>\n",
              "      <th>0</th>\n",
              "      <td>1000.0</td>\n",
              "      <td>1000</td>\n",
              "      <td>0.0</td>\n",
              "      <td>1</td>\n",
              "      <td>2018</td>\n",
              "      <td>11</td>\n",
              "      <td>15</td>\n",
              "      <td>3</td>\n",
              "      <td>66</td>\n",
              "      <td>0</td>\n",
              "      <td>0</td>\n",
              "      <td>0</td>\n",
              "      <td>0</td>\n",
              "      <td>1</td>\n",
              "      <td>1</td>\n",
              "      <td>0</td>\n",
              "      <td>0</td>\n",
              "      <td>0</td>\n",
              "      <td>0</td>\n",
              "      <td>0</td>\n",
              "      <td>0</td>\n",
              "      <td>0</td>\n",
              "      <td>0</td>\n",
              "      <td>0</td>\n",
              "      <td>0</td>\n",
              "      <td>0</td>\n",
              "      <td>0</td>\n",
              "      <td>0</td>\n",
              "      <td>0</td>\n",
              "      <td>0</td>\n",
              "      <td>0</td>\n",
              "      <td>0</td>\n",
              "      <td>0</td>\n",
              "      <td>0</td>\n",
              "      <td>0</td>\n",
              "      <td>0</td>\n",
              "      <td>0</td>\n",
              "      <td>0</td>\n",
              "      <td>0</td>\n",
              "      <td>0</td>\n",
              "      <td>0</td>\n",
              "      <td>0</td>\n",
              "      <td>0</td>\n",
              "      <td>0</td>\n",
              "      <td>0</td>\n",
              "      <td>0</td>\n",
              "      <td>0</td>\n",
              "      <td>0</td>\n",
              "      <td>0</td>\n",
              "      <td>0</td>\n",
              "      <td>1</td>\n",
              "      <td>0</td>\n",
              "      <td>0</td>\n",
              "      <td>0</td>\n",
              "      <td>1</td>\n",
              "      <td>0</td>\n",
              "    </tr>\n",
              "    <tr>\n",
              "      <th>1</th>\n",
              "      <td>-20.0</td>\n",
              "      <td>20</td>\n",
              "      <td>0.0</td>\n",
              "      <td>1</td>\n",
              "      <td>2018</td>\n",
              "      <td>11</td>\n",
              "      <td>15</td>\n",
              "      <td>3</td>\n",
              "      <td>30893</td>\n",
              "      <td>0</td>\n",
              "      <td>0</td>\n",
              "      <td>1</td>\n",
              "      <td>0</td>\n",
              "      <td>0</td>\n",
              "      <td>0</td>\n",
              "      <td>0</td>\n",
              "      <td>0</td>\n",
              "      <td>0</td>\n",
              "      <td>0</td>\n",
              "      <td>0</td>\n",
              "      <td>0</td>\n",
              "      <td>0</td>\n",
              "      <td>0</td>\n",
              "      <td>0</td>\n",
              "      <td>0</td>\n",
              "      <td>0</td>\n",
              "      <td>0</td>\n",
              "      <td>0</td>\n",
              "      <td>0</td>\n",
              "      <td>0</td>\n",
              "      <td>0</td>\n",
              "      <td>0</td>\n",
              "      <td>0</td>\n",
              "      <td>0</td>\n",
              "      <td>0</td>\n",
              "      <td>0</td>\n",
              "      <td>1</td>\n",
              "      <td>0</td>\n",
              "      <td>0</td>\n",
              "      <td>0</td>\n",
              "      <td>0</td>\n",
              "      <td>1</td>\n",
              "      <td>0</td>\n",
              "      <td>0</td>\n",
              "      <td>0</td>\n",
              "      <td>0</td>\n",
              "      <td>0</td>\n",
              "      <td>0</td>\n",
              "      <td>0</td>\n",
              "      <td>1</td>\n",
              "      <td>0</td>\n",
              "      <td>0</td>\n",
              "      <td>0</td>\n",
              "      <td>0</td>\n",
              "      <td>1</td>\n",
              "      <td>0</td>\n",
              "    </tr>\n",
              "    <tr>\n",
              "      <th>2</th>\n",
              "      <td>500.0</td>\n",
              "      <td>500</td>\n",
              "      <td>0.0</td>\n",
              "      <td>1</td>\n",
              "      <td>2018</td>\n",
              "      <td>11</td>\n",
              "      <td>15</td>\n",
              "      <td>3</td>\n",
              "      <td>2</td>\n",
              "      <td>0</td>\n",
              "      <td>0</td>\n",
              "      <td>0</td>\n",
              "      <td>0</td>\n",
              "      <td>1</td>\n",
              "      <td>0</td>\n",
              "      <td>0</td>\n",
              "      <td>0</td>\n",
              "      <td>0</td>\n",
              "      <td>0</td>\n",
              "      <td>0</td>\n",
              "      <td>0</td>\n",
              "      <td>0</td>\n",
              "      <td>0</td>\n",
              "      <td>0</td>\n",
              "      <td>0</td>\n",
              "      <td>0</td>\n",
              "      <td>0</td>\n",
              "      <td>0</td>\n",
              "      <td>0</td>\n",
              "      <td>0</td>\n",
              "      <td>0</td>\n",
              "      <td>0</td>\n",
              "      <td>0</td>\n",
              "      <td>0</td>\n",
              "      <td>0</td>\n",
              "      <td>0</td>\n",
              "      <td>0</td>\n",
              "      <td>0</td>\n",
              "      <td>0</td>\n",
              "      <td>0</td>\n",
              "      <td>0</td>\n",
              "      <td>0</td>\n",
              "      <td>0</td>\n",
              "      <td>0</td>\n",
              "      <td>0</td>\n",
              "      <td>0</td>\n",
              "      <td>0</td>\n",
              "      <td>0</td>\n",
              "      <td>0</td>\n",
              "      <td>0</td>\n",
              "      <td>1</td>\n",
              "      <td>0</td>\n",
              "      <td>0</td>\n",
              "      <td>0</td>\n",
              "      <td>1</td>\n",
              "      <td>0</td>\n",
              "    </tr>\n",
              "    <tr>\n",
              "      <th>3</th>\n",
              "      <td>20000.0</td>\n",
              "      <td>21800</td>\n",
              "      <td>0.0</td>\n",
              "      <td>1</td>\n",
              "      <td>2018</td>\n",
              "      <td>11</td>\n",
              "      <td>15</td>\n",
              "      <td>3</td>\n",
              "      <td>26</td>\n",
              "      <td>0</td>\n",
              "      <td>0</td>\n",
              "      <td>0</td>\n",
              "      <td>0</td>\n",
              "      <td>0</td>\n",
              "      <td>0</td>\n",
              "      <td>0</td>\n",
              "      <td>0</td>\n",
              "      <td>0</td>\n",
              "      <td>0</td>\n",
              "      <td>0</td>\n",
              "      <td>0</td>\n",
              "      <td>0</td>\n",
              "      <td>0</td>\n",
              "      <td>0</td>\n",
              "      <td>0</td>\n",
              "      <td>0</td>\n",
              "      <td>1</td>\n",
              "      <td>0</td>\n",
              "      <td>0</td>\n",
              "      <td>0</td>\n",
              "      <td>0</td>\n",
              "      <td>0</td>\n",
              "      <td>0</td>\n",
              "      <td>0</td>\n",
              "      <td>0</td>\n",
              "      <td>0</td>\n",
              "      <td>0</td>\n",
              "      <td>0</td>\n",
              "      <td>0</td>\n",
              "      <td>0</td>\n",
              "      <td>0</td>\n",
              "      <td>0</td>\n",
              "      <td>0</td>\n",
              "      <td>0</td>\n",
              "      <td>0</td>\n",
              "      <td>0</td>\n",
              "      <td>0</td>\n",
              "      <td>0</td>\n",
              "      <td>1</td>\n",
              "      <td>0</td>\n",
              "      <td>1</td>\n",
              "      <td>0</td>\n",
              "      <td>0</td>\n",
              "      <td>0</td>\n",
              "      <td>1</td>\n",
              "      <td>0</td>\n",
              "    </tr>\n",
              "    <tr>\n",
              "      <th>4</th>\n",
              "      <td>-644.0</td>\n",
              "      <td>644</td>\n",
              "      <td>0.0</td>\n",
              "      <td>1</td>\n",
              "      <td>2018</td>\n",
              "      <td>11</td>\n",
              "      <td>15</td>\n",
              "      <td>3</td>\n",
              "      <td>30893</td>\n",
              "      <td>0</td>\n",
              "      <td>0</td>\n",
              "      <td>1</td>\n",
              "      <td>0</td>\n",
              "      <td>0</td>\n",
              "      <td>0</td>\n",
              "      <td>0</td>\n",
              "      <td>0</td>\n",
              "      <td>0</td>\n",
              "      <td>0</td>\n",
              "      <td>0</td>\n",
              "      <td>0</td>\n",
              "      <td>0</td>\n",
              "      <td>0</td>\n",
              "      <td>0</td>\n",
              "      <td>0</td>\n",
              "      <td>0</td>\n",
              "      <td>0</td>\n",
              "      <td>0</td>\n",
              "      <td>0</td>\n",
              "      <td>0</td>\n",
              "      <td>0</td>\n",
              "      <td>0</td>\n",
              "      <td>0</td>\n",
              "      <td>0</td>\n",
              "      <td>0</td>\n",
              "      <td>0</td>\n",
              "      <td>1</td>\n",
              "      <td>0</td>\n",
              "      <td>0</td>\n",
              "      <td>0</td>\n",
              "      <td>0</td>\n",
              "      <td>1</td>\n",
              "      <td>0</td>\n",
              "      <td>0</td>\n",
              "      <td>0</td>\n",
              "      <td>0</td>\n",
              "      <td>0</td>\n",
              "      <td>0</td>\n",
              "      <td>0</td>\n",
              "      <td>1</td>\n",
              "      <td>0</td>\n",
              "      <td>0</td>\n",
              "      <td>0</td>\n",
              "      <td>0</td>\n",
              "      <td>1</td>\n",
              "      <td>0</td>\n",
              "    </tr>\n",
              "  </tbody>\n",
              "</table>\n",
              "</div>"
            ],
            "text/plain": [
              "    Amount  Value  ...  PricingStrategy_2  PricingStrategy_4\n",
              "0   1000.0   1000  ...                  1                  0\n",
              "1    -20.0     20  ...                  1                  0\n",
              "2    500.0    500  ...                  1                  0\n",
              "3  20000.0  21800  ...                  1                  0\n",
              "4   -644.0    644  ...                  1                  0\n",
              "\n",
              "[5 rows x 56 columns]"
            ]
          },
          "metadata": {
            "tags": []
          },
          "execution_count": 181
        }
      ]
    },
    {
      "cell_type": "code",
      "metadata": {
        "id": "GXbPOSagHSK0",
        "colab_type": "code",
        "colab": {
          "base_uri": "https://localhost:8080/",
          "height": 1000
        },
        "outputId": "adeaac72-2051-49c9-f33d-af801cb924d7"
      },
      "source": [
        "encoded_df.info()"
      ],
      "execution_count": 182,
      "outputs": [
        {
          "output_type": "stream",
          "text": [
            "<class 'pandas.core.frame.DataFrame'>\n",
            "Int64Index: 140681 entries, 0 to 45018\n",
            "Data columns (total 56 columns):\n",
            "Amount                              140681 non-null float64\n",
            "Value                               140681 non-null int64\n",
            "FraudResult                         95662 non-null float64\n",
            "Number_of_Batch_Trans               140681 non-null int64\n",
            "TransactionStartTime_year           140681 non-null int64\n",
            "TransactionStartTime_month          140681 non-null int64\n",
            "TransactionStartTime_day            140681 non-null int64\n",
            "TransactionStartTime_day_of_week    140681 non-null int64\n",
            "Number_of_Transactions              140681 non-null int64\n",
            "_ProviderId_2                       140681 non-null uint8\n",
            "_ProviderId_3                       140681 non-null uint8\n",
            "_ProviderId_4                       140681 non-null uint8\n",
            "_ProviderId_5                       140681 non-null uint8\n",
            "_ProviderId_6                       140681 non-null uint8\n",
            "_ProductId_10                       140681 non-null uint8\n",
            "_ProductId_11                       140681 non-null uint8\n",
            "_ProductId_12                       140681 non-null uint8\n",
            "_ProductId_13                       140681 non-null uint8\n",
            "_ProductId_14                       140681 non-null uint8\n",
            "_ProductId_15                       140681 non-null uint8\n",
            "_ProductId_16                       140681 non-null uint8\n",
            "_ProductId_17                       140681 non-null uint8\n",
            "_ProductId_18                       140681 non-null uint8\n",
            "_ProductId_19                       140681 non-null uint8\n",
            "_ProductId_2                        140681 non-null uint8\n",
            "_ProductId_20                       140681 non-null uint8\n",
            "_ProductId_21                       140681 non-null uint8\n",
            "_ProductId_22                       140681 non-null uint8\n",
            "_ProductId_23                       140681 non-null uint8\n",
            "_ProductId_24                       140681 non-null uint8\n",
            "_ProductId_25                       140681 non-null uint8\n",
            "_ProductId_26                       140681 non-null uint8\n",
            "_ProductId_27                       140681 non-null uint8\n",
            "_ProductId_3                        140681 non-null uint8\n",
            "_ProductId_4                        140681 non-null uint8\n",
            "_ProductId_5                        140681 non-null uint8\n",
            "_ProductId_6                        140681 non-null uint8\n",
            "_ProductId_7                        140681 non-null uint8\n",
            "_ProductId_8                        140681 non-null uint8\n",
            "_ProductId_9                        140681 non-null uint8\n",
            "_data_bundles                       140681 non-null uint8\n",
            "_financial_services                 140681 non-null uint8\n",
            "_movies                             140681 non-null uint8\n",
            "_other                              140681 non-null uint8\n",
            "_retail                             140681 non-null uint8\n",
            "_ticket                             140681 non-null uint8\n",
            "_transport                          140681 non-null uint8\n",
            "_tv                                 140681 non-null uint8\n",
            "_utility_bill                       140681 non-null uint8\n",
            "_ChannelId_2                        140681 non-null uint8\n",
            "_ChannelId_3                        140681 non-null uint8\n",
            "_ChannelId_4                        140681 non-null uint8\n",
            "_ChannelId_5                        140681 non-null uint8\n",
            "PricingStrategy_1                   140681 non-null uint8\n",
            "PricingStrategy_2                   140681 non-null uint8\n",
            "PricingStrategy_4                   140681 non-null uint8\n",
            "dtypes: float64(2), int64(7), uint8(47)\n",
            "memory usage: 17.0 MB\n"
          ],
          "name": "stdout"
        }
      ]
    },
    {
      "cell_type": "markdown",
      "metadata": {
        "id": "hDjbnmVTJLfL",
        "colab_type": "text"
      },
      "source": [
        "## Normalization\n",
        "\n",
        "> Scale continuous variables"
      ]
    },
    {
      "cell_type": "code",
      "metadata": {
        "id": "sYTpnievCu9e",
        "colab_type": "code",
        "colab": {}
      },
      "source": [
        "continuous = ['Amount', 'Value', 'Number_of_Transactions']\n",
        "\n",
        "scaler = StandardScaler()\n",
        "\n",
        "for var in continuous:\n",
        "    encoded_df[var] = encoded_df[var].astype('float64')\n",
        "    encoded_df[var] = scaler.fit_transform(encoded_df[var].values.reshape(-1, 1))"
      ],
      "execution_count": 0,
      "outputs": []
    },
    {
      "cell_type": "code",
      "metadata": {
        "id": "2dMf6hkLCuxd",
        "colab_type": "code",
        "colab": {
          "base_uri": "https://localhost:8080/",
          "height": 224
        },
        "outputId": "75bac15f-4d07-49df-f590-008979afba91"
      },
      "source": [
        "encoded_df.head()"
      ],
      "execution_count": 184,
      "outputs": [
        {
          "output_type": "execute_result",
          "data": {
            "text/html": [
              "<div>\n",
              "<style scoped>\n",
              "    .dataframe tbody tr th:only-of-type {\n",
              "        vertical-align: middle;\n",
              "    }\n",
              "\n",
              "    .dataframe tbody tr th {\n",
              "        vertical-align: top;\n",
              "    }\n",
              "\n",
              "    .dataframe thead th {\n",
              "        text-align: right;\n",
              "    }\n",
              "</style>\n",
              "<table border=\"1\" class=\"dataframe\">\n",
              "  <thead>\n",
              "    <tr style=\"text-align: right;\">\n",
              "      <th></th>\n",
              "      <th>Amount</th>\n",
              "      <th>Value</th>\n",
              "      <th>FraudResult</th>\n",
              "      <th>Number_of_Batch_Trans</th>\n",
              "      <th>TransactionStartTime_year</th>\n",
              "      <th>TransactionStartTime_month</th>\n",
              "      <th>TransactionStartTime_day</th>\n",
              "      <th>TransactionStartTime_day_of_week</th>\n",
              "      <th>Number_of_Transactions</th>\n",
              "      <th>_ProviderId_2</th>\n",
              "      <th>_ProviderId_3</th>\n",
              "      <th>_ProviderId_4</th>\n",
              "      <th>_ProviderId_5</th>\n",
              "      <th>_ProviderId_6</th>\n",
              "      <th>_ProductId_10</th>\n",
              "      <th>_ProductId_11</th>\n",
              "      <th>_ProductId_12</th>\n",
              "      <th>_ProductId_13</th>\n",
              "      <th>_ProductId_14</th>\n",
              "      <th>_ProductId_15</th>\n",
              "      <th>_ProductId_16</th>\n",
              "      <th>_ProductId_17</th>\n",
              "      <th>_ProductId_18</th>\n",
              "      <th>_ProductId_19</th>\n",
              "      <th>_ProductId_2</th>\n",
              "      <th>_ProductId_20</th>\n",
              "      <th>_ProductId_21</th>\n",
              "      <th>_ProductId_22</th>\n",
              "      <th>_ProductId_23</th>\n",
              "      <th>_ProductId_24</th>\n",
              "      <th>_ProductId_25</th>\n",
              "      <th>_ProductId_26</th>\n",
              "      <th>_ProductId_27</th>\n",
              "      <th>_ProductId_3</th>\n",
              "      <th>_ProductId_4</th>\n",
              "      <th>_ProductId_5</th>\n",
              "      <th>_ProductId_6</th>\n",
              "      <th>_ProductId_7</th>\n",
              "      <th>_ProductId_8</th>\n",
              "      <th>_ProductId_9</th>\n",
              "      <th>_data_bundles</th>\n",
              "      <th>_financial_services</th>\n",
              "      <th>_movies</th>\n",
              "      <th>_other</th>\n",
              "      <th>_retail</th>\n",
              "      <th>_ticket</th>\n",
              "      <th>_transport</th>\n",
              "      <th>_tv</th>\n",
              "      <th>_utility_bill</th>\n",
              "      <th>_ChannelId_2</th>\n",
              "      <th>_ChannelId_3</th>\n",
              "      <th>_ChannelId_4</th>\n",
              "      <th>_ChannelId_5</th>\n",
              "      <th>PricingStrategy_1</th>\n",
              "      <th>PricingStrategy_2</th>\n",
              "      <th>PricingStrategy_4</th>\n",
              "    </tr>\n",
              "  </thead>\n",
              "  <tbody>\n",
              "    <tr>\n",
              "      <th>0</th>\n",
              "      <td>-0.043799</td>\n",
              "      <td>-0.078466</td>\n",
              "      <td>0.0</td>\n",
              "      <td>1</td>\n",
              "      <td>2018</td>\n",
              "      <td>11</td>\n",
              "      <td>15</td>\n",
              "      <td>3</td>\n",
              "      <td>-0.641548</td>\n",
              "      <td>0</td>\n",
              "      <td>0</td>\n",
              "      <td>0</td>\n",
              "      <td>0</td>\n",
              "      <td>1</td>\n",
              "      <td>1</td>\n",
              "      <td>0</td>\n",
              "      <td>0</td>\n",
              "      <td>0</td>\n",
              "      <td>0</td>\n",
              "      <td>0</td>\n",
              "      <td>0</td>\n",
              "      <td>0</td>\n",
              "      <td>0</td>\n",
              "      <td>0</td>\n",
              "      <td>0</td>\n",
              "      <td>0</td>\n",
              "      <td>0</td>\n",
              "      <td>0</td>\n",
              "      <td>0</td>\n",
              "      <td>0</td>\n",
              "      <td>0</td>\n",
              "      <td>0</td>\n",
              "      <td>0</td>\n",
              "      <td>0</td>\n",
              "      <td>0</td>\n",
              "      <td>0</td>\n",
              "      <td>0</td>\n",
              "      <td>0</td>\n",
              "      <td>0</td>\n",
              "      <td>0</td>\n",
              "      <td>0</td>\n",
              "      <td>0</td>\n",
              "      <td>0</td>\n",
              "      <td>0</td>\n",
              "      <td>0</td>\n",
              "      <td>0</td>\n",
              "      <td>0</td>\n",
              "      <td>0</td>\n",
              "      <td>0</td>\n",
              "      <td>0</td>\n",
              "      <td>1</td>\n",
              "      <td>0</td>\n",
              "      <td>0</td>\n",
              "      <td>0</td>\n",
              "      <td>1</td>\n",
              "      <td>0</td>\n",
              "    </tr>\n",
              "    <tr>\n",
              "      <th>1</th>\n",
              "      <td>-0.052644</td>\n",
              "      <td>-0.086983</td>\n",
              "      <td>0.0</td>\n",
              "      <td>1</td>\n",
              "      <td>2018</td>\n",
              "      <td>11</td>\n",
              "      <td>15</td>\n",
              "      <td>3</td>\n",
              "      <td>1.826089</td>\n",
              "      <td>0</td>\n",
              "      <td>0</td>\n",
              "      <td>1</td>\n",
              "      <td>0</td>\n",
              "      <td>0</td>\n",
              "      <td>0</td>\n",
              "      <td>0</td>\n",
              "      <td>0</td>\n",
              "      <td>0</td>\n",
              "      <td>0</td>\n",
              "      <td>0</td>\n",
              "      <td>0</td>\n",
              "      <td>0</td>\n",
              "      <td>0</td>\n",
              "      <td>0</td>\n",
              "      <td>0</td>\n",
              "      <td>0</td>\n",
              "      <td>0</td>\n",
              "      <td>0</td>\n",
              "      <td>0</td>\n",
              "      <td>0</td>\n",
              "      <td>0</td>\n",
              "      <td>0</td>\n",
              "      <td>0</td>\n",
              "      <td>0</td>\n",
              "      <td>0</td>\n",
              "      <td>0</td>\n",
              "      <td>1</td>\n",
              "      <td>0</td>\n",
              "      <td>0</td>\n",
              "      <td>0</td>\n",
              "      <td>0</td>\n",
              "      <td>1</td>\n",
              "      <td>0</td>\n",
              "      <td>0</td>\n",
              "      <td>0</td>\n",
              "      <td>0</td>\n",
              "      <td>0</td>\n",
              "      <td>0</td>\n",
              "      <td>0</td>\n",
              "      <td>1</td>\n",
              "      <td>0</td>\n",
              "      <td>0</td>\n",
              "      <td>0</td>\n",
              "      <td>0</td>\n",
              "      <td>1</td>\n",
              "      <td>0</td>\n",
              "    </tr>\n",
              "    <tr>\n",
              "      <th>2</th>\n",
              "      <td>-0.048135</td>\n",
              "      <td>-0.082812</td>\n",
              "      <td>0.0</td>\n",
              "      <td>1</td>\n",
              "      <td>2018</td>\n",
              "      <td>11</td>\n",
              "      <td>15</td>\n",
              "      <td>3</td>\n",
              "      <td>-0.646671</td>\n",
              "      <td>0</td>\n",
              "      <td>0</td>\n",
              "      <td>0</td>\n",
              "      <td>0</td>\n",
              "      <td>1</td>\n",
              "      <td>0</td>\n",
              "      <td>0</td>\n",
              "      <td>0</td>\n",
              "      <td>0</td>\n",
              "      <td>0</td>\n",
              "      <td>0</td>\n",
              "      <td>0</td>\n",
              "      <td>0</td>\n",
              "      <td>0</td>\n",
              "      <td>0</td>\n",
              "      <td>0</td>\n",
              "      <td>0</td>\n",
              "      <td>0</td>\n",
              "      <td>0</td>\n",
              "      <td>0</td>\n",
              "      <td>0</td>\n",
              "      <td>0</td>\n",
              "      <td>0</td>\n",
              "      <td>0</td>\n",
              "      <td>0</td>\n",
              "      <td>0</td>\n",
              "      <td>0</td>\n",
              "      <td>0</td>\n",
              "      <td>0</td>\n",
              "      <td>0</td>\n",
              "      <td>0</td>\n",
              "      <td>0</td>\n",
              "      <td>0</td>\n",
              "      <td>0</td>\n",
              "      <td>0</td>\n",
              "      <td>0</td>\n",
              "      <td>0</td>\n",
              "      <td>0</td>\n",
              "      <td>0</td>\n",
              "      <td>0</td>\n",
              "      <td>0</td>\n",
              "      <td>1</td>\n",
              "      <td>0</td>\n",
              "      <td>0</td>\n",
              "      <td>0</td>\n",
              "      <td>1</td>\n",
              "      <td>0</td>\n",
              "    </tr>\n",
              "    <tr>\n",
              "      <th>3</th>\n",
              "      <td>0.120970</td>\n",
              "      <td>0.102305</td>\n",
              "      <td>0.0</td>\n",
              "      <td>1</td>\n",
              "      <td>2018</td>\n",
              "      <td>11</td>\n",
              "      <td>15</td>\n",
              "      <td>3</td>\n",
              "      <td>-0.644750</td>\n",
              "      <td>0</td>\n",
              "      <td>0</td>\n",
              "      <td>0</td>\n",
              "      <td>0</td>\n",
              "      <td>0</td>\n",
              "      <td>0</td>\n",
              "      <td>0</td>\n",
              "      <td>0</td>\n",
              "      <td>0</td>\n",
              "      <td>0</td>\n",
              "      <td>0</td>\n",
              "      <td>0</td>\n",
              "      <td>0</td>\n",
              "      <td>0</td>\n",
              "      <td>0</td>\n",
              "      <td>0</td>\n",
              "      <td>0</td>\n",
              "      <td>1</td>\n",
              "      <td>0</td>\n",
              "      <td>0</td>\n",
              "      <td>0</td>\n",
              "      <td>0</td>\n",
              "      <td>0</td>\n",
              "      <td>0</td>\n",
              "      <td>0</td>\n",
              "      <td>0</td>\n",
              "      <td>0</td>\n",
              "      <td>0</td>\n",
              "      <td>0</td>\n",
              "      <td>0</td>\n",
              "      <td>0</td>\n",
              "      <td>0</td>\n",
              "      <td>0</td>\n",
              "      <td>0</td>\n",
              "      <td>0</td>\n",
              "      <td>0</td>\n",
              "      <td>0</td>\n",
              "      <td>0</td>\n",
              "      <td>0</td>\n",
              "      <td>1</td>\n",
              "      <td>0</td>\n",
              "      <td>1</td>\n",
              "      <td>0</td>\n",
              "      <td>0</td>\n",
              "      <td>0</td>\n",
              "      <td>1</td>\n",
              "      <td>0</td>\n",
              "    </tr>\n",
              "    <tr>\n",
              "      <th>4</th>\n",
              "      <td>-0.058056</td>\n",
              "      <td>-0.081560</td>\n",
              "      <td>0.0</td>\n",
              "      <td>1</td>\n",
              "      <td>2018</td>\n",
              "      <td>11</td>\n",
              "      <td>15</td>\n",
              "      <td>3</td>\n",
              "      <td>1.826089</td>\n",
              "      <td>0</td>\n",
              "      <td>0</td>\n",
              "      <td>1</td>\n",
              "      <td>0</td>\n",
              "      <td>0</td>\n",
              "      <td>0</td>\n",
              "      <td>0</td>\n",
              "      <td>0</td>\n",
              "      <td>0</td>\n",
              "      <td>0</td>\n",
              "      <td>0</td>\n",
              "      <td>0</td>\n",
              "      <td>0</td>\n",
              "      <td>0</td>\n",
              "      <td>0</td>\n",
              "      <td>0</td>\n",
              "      <td>0</td>\n",
              "      <td>0</td>\n",
              "      <td>0</td>\n",
              "      <td>0</td>\n",
              "      <td>0</td>\n",
              "      <td>0</td>\n",
              "      <td>0</td>\n",
              "      <td>0</td>\n",
              "      <td>0</td>\n",
              "      <td>0</td>\n",
              "      <td>0</td>\n",
              "      <td>1</td>\n",
              "      <td>0</td>\n",
              "      <td>0</td>\n",
              "      <td>0</td>\n",
              "      <td>0</td>\n",
              "      <td>1</td>\n",
              "      <td>0</td>\n",
              "      <td>0</td>\n",
              "      <td>0</td>\n",
              "      <td>0</td>\n",
              "      <td>0</td>\n",
              "      <td>0</td>\n",
              "      <td>0</td>\n",
              "      <td>1</td>\n",
              "      <td>0</td>\n",
              "      <td>0</td>\n",
              "      <td>0</td>\n",
              "      <td>0</td>\n",
              "      <td>1</td>\n",
              "      <td>0</td>\n",
              "    </tr>\n",
              "  </tbody>\n",
              "</table>\n",
              "</div>"
            ],
            "text/plain": [
              "     Amount     Value  ...  PricingStrategy_2  PricingStrategy_4\n",
              "0 -0.043799 -0.078466  ...                  1                  0\n",
              "1 -0.052644 -0.086983  ...                  1                  0\n",
              "2 -0.048135 -0.082812  ...                  1                  0\n",
              "3  0.120970  0.102305  ...                  1                  0\n",
              "4 -0.058056 -0.081560  ...                  1                  0\n",
              "\n",
              "[5 rows x 56 columns]"
            ]
          },
          "metadata": {
            "tags": []
          },
          "execution_count": 184
        }
      ]
    },
    {
      "cell_type": "markdown",
      "metadata": {
        "id": "ICOx4rTaJGe2",
        "colab_type": "text"
      },
      "source": [
        "> Seperate  train and test data"
      ]
    },
    {
      "cell_type": "code",
      "metadata": {
        "id": "zVWGvmsbHzkZ",
        "colab_type": "code",
        "colab": {}
      },
      "source": [
        "train_df = encoded_df[encoded_df['FraudResult'].notnull()]\n",
        "test_df = encoded_df[encoded_df['FraudResult'].isnull()].drop(['FraudResult'], axis=1)"
      ],
      "execution_count": 0,
      "outputs": []
    },
    {
      "cell_type": "markdown",
      "metadata": {
        "id": "EljEqIcdJCMT",
        "colab_type": "text"
      },
      "source": [
        "## Model Building"
      ]
    },
    {
      "cell_type": "code",
      "metadata": {
        "scrolled": true,
        "id": "61xL0C-KgT7k",
        "colab_type": "code",
        "colab": {}
      },
      "source": [
        "X = train_df.drop('FraudResult', axis=1).values\n",
        "y = train_df.FraudResult.values"
      ],
      "execution_count": 0,
      "outputs": []
    },
    {
      "cell_type": "code",
      "metadata": {
        "id": "OBXbMABWgT7m",
        "colab_type": "code",
        "colab": {}
      },
      "source": [
        "X_train, X_test, y_train, y_test = train_test_split(X, y, test_size = 0.25, random_state=42)"
      ],
      "execution_count": 0,
      "outputs": []
    },
    {
      "cell_type": "markdown",
      "metadata": {
        "id": "_Kz-d_QyYhKc",
        "colab_type": "text"
      },
      "source": [
        "## Logistic Regression\n",
        "\n",
        "> Gives issues with grid search because of the class imbalance, F1 score is undefined (precision = TP/TP+FP)"
      ]
    },
    {
      "cell_type": "code",
      "metadata": {
        "id": "zf2Jy9iFLBPB",
        "colab_type": "code",
        "colab": {}
      },
      "source": [
        "?LogisticRegression"
      ],
      "execution_count": 0,
      "outputs": []
    },
    {
      "cell_type": "code",
      "metadata": {
        "id": "kT5TZpRpgT7o",
        "colab_type": "code",
        "colab": {
          "base_uri": "https://localhost:8080/",
          "height": 102
        },
        "outputId": "2eba6bc0-6954-41b3-8c19-044309f4a456"
      },
      "source": [
        "logistic = LogisticRegression(solver='liblinear') #solver='saga', penalty = 'elasticnet', random_state=42, l1_ratio =0.1\n",
        "logistic.fit(X_train, y_train)"
      ],
      "execution_count": 188,
      "outputs": [
        {
          "output_type": "execute_result",
          "data": {
            "text/plain": [
              "LogisticRegression(C=1.0, class_weight=None, dual=False, fit_intercept=True,\n",
              "                   intercept_scaling=1, l1_ratio=None, max_iter=100,\n",
              "                   multi_class='warn', n_jobs=None, penalty='l2',\n",
              "                   random_state=None, solver='liblinear', tol=0.0001, verbose=0,\n",
              "                   warm_start=False)"
            ]
          },
          "metadata": {
            "tags": []
          },
          "execution_count": 188
        }
      ]
    },
    {
      "cell_type": "code",
      "metadata": {
        "id": "C545BeYSgT7t",
        "colab_type": "code",
        "colab": {}
      },
      "source": [
        "y_pred = logistic.predict(X_test)"
      ],
      "execution_count": 0,
      "outputs": []
    },
    {
      "cell_type": "code",
      "metadata": {
        "id": "kjndLZRugT7x",
        "colab_type": "code",
        "colab": {
          "base_uri": "https://localhost:8080/",
          "height": 34
        },
        "outputId": "8ae44221-c727-47ba-ddb0-d925322539b6"
      },
      "source": [
        "metrics.f1_score(y_test, y_pred)"
      ],
      "execution_count": 190,
      "outputs": [
        {
          "output_type": "execute_result",
          "data": {
            "text/plain": [
              "0.31884057971014496"
            ]
          },
          "metadata": {
            "tags": []
          },
          "execution_count": 190
        }
      ]
    },
    {
      "cell_type": "code",
      "metadata": {
        "id": "wwBMicWrgT7z",
        "colab_type": "code",
        "colab": {
          "base_uri": "https://localhost:8080/",
          "height": 34
        },
        "outputId": "8ce07ffb-2078-4960-bd97-78ddcb5c2134"
      },
      "source": [
        "metrics.f1_score(y_train, logistic.predict(X_train))"
      ],
      "execution_count": 191,
      "outputs": [
        {
          "output_type": "execute_result",
          "data": {
            "text/plain": [
              "0.4910714285714286"
            ]
          },
          "metadata": {
            "tags": []
          },
          "execution_count": 191
        }
      ]
    },
    {
      "cell_type": "code",
      "metadata": {
        "id": "W2gupoR6a4yd",
        "colab_type": "code",
        "colab": {
          "base_uri": "https://localhost:8080/",
          "height": 1000
        },
        "outputId": "6276def2-931c-4542-babf-540fee2a4743"
      },
      "source": [
        "# Create coefficients table\n",
        "\n",
        "Coefficients = pd.DataFrame(data = logistic.coef_[0], index = train_df.drop('FraudResult', axis=1).columns, columns = ['coefficient'])\n",
        "Coefficients = Coefficients.sort_values('coefficient', ascending=False)\n",
        "Coefficients"
      ],
      "execution_count": 192,
      "outputs": [
        {
          "output_type": "execute_result",
          "data": {
            "text/html": [
              "<div>\n",
              "<style scoped>\n",
              "    .dataframe tbody tr th:only-of-type {\n",
              "        vertical-align: middle;\n",
              "    }\n",
              "\n",
              "    .dataframe tbody tr th {\n",
              "        vertical-align: top;\n",
              "    }\n",
              "\n",
              "    .dataframe thead th {\n",
              "        text-align: right;\n",
              "    }\n",
              "</style>\n",
              "<table border=\"1\" class=\"dataframe\">\n",
              "  <thead>\n",
              "    <tr style=\"text-align: right;\">\n",
              "      <th></th>\n",
              "      <th>coefficient</th>\n",
              "    </tr>\n",
              "  </thead>\n",
              "  <tbody>\n",
              "    <tr>\n",
              "      <th>_ProviderId_3</th>\n",
              "      <td>1.588289</td>\n",
              "    </tr>\n",
              "    <tr>\n",
              "      <th>Value</th>\n",
              "      <td>1.536683</td>\n",
              "    </tr>\n",
              "    <tr>\n",
              "      <th>_utility_bill</th>\n",
              "      <td>1.122027</td>\n",
              "    </tr>\n",
              "    <tr>\n",
              "      <th>_ProductId_13</th>\n",
              "      <td>0.727875</td>\n",
              "    </tr>\n",
              "    <tr>\n",
              "      <th>_ProductId_15</th>\n",
              "      <td>0.595115</td>\n",
              "    </tr>\n",
              "    <tr>\n",
              "      <th>_financial_services</th>\n",
              "      <td>0.552939</td>\n",
              "    </tr>\n",
              "    <tr>\n",
              "      <th>_ProductId_9</th>\n",
              "      <td>0.545247</td>\n",
              "    </tr>\n",
              "    <tr>\n",
              "      <th>_ProductId_22</th>\n",
              "      <td>0.491143</td>\n",
              "    </tr>\n",
              "    <tr>\n",
              "      <th>_transport</th>\n",
              "      <td>0.328973</td>\n",
              "    </tr>\n",
              "    <tr>\n",
              "      <th>_ProductId_5</th>\n",
              "      <td>0.328973</td>\n",
              "    </tr>\n",
              "    <tr>\n",
              "      <th>_ProviderId_5</th>\n",
              "      <td>0.265799</td>\n",
              "    </tr>\n",
              "    <tr>\n",
              "      <th>_ChannelId_3</th>\n",
              "      <td>0.056833</td>\n",
              "    </tr>\n",
              "    <tr>\n",
              "      <th>TransactionStartTime_day_of_week</th>\n",
              "      <td>0.018059</td>\n",
              "    </tr>\n",
              "    <tr>\n",
              "      <th>_ProductId_26</th>\n",
              "      <td>0.000000</td>\n",
              "    </tr>\n",
              "    <tr>\n",
              "      <th>_ChannelId_4</th>\n",
              "      <td>0.000000</td>\n",
              "    </tr>\n",
              "    <tr>\n",
              "      <th>_ProductId_25</th>\n",
              "      <td>0.000000</td>\n",
              "    </tr>\n",
              "    <tr>\n",
              "      <th>_ProductId_17</th>\n",
              "      <td>0.000000</td>\n",
              "    </tr>\n",
              "    <tr>\n",
              "      <th>_retail</th>\n",
              "      <td>0.000000</td>\n",
              "    </tr>\n",
              "    <tr>\n",
              "      <th>_ProductId_18</th>\n",
              "      <td>0.000000</td>\n",
              "    </tr>\n",
              "    <tr>\n",
              "      <th>_ProductId_23</th>\n",
              "      <td>-0.000127</td>\n",
              "    </tr>\n",
              "    <tr>\n",
              "      <th>_other</th>\n",
              "      <td>-0.001460</td>\n",
              "    </tr>\n",
              "    <tr>\n",
              "      <th>_ProductId_12</th>\n",
              "      <td>-0.001460</td>\n",
              "    </tr>\n",
              "    <tr>\n",
              "      <th>_ProviderId_2</th>\n",
              "      <td>-0.002277</td>\n",
              "    </tr>\n",
              "    <tr>\n",
              "      <th>_ProductId_16</th>\n",
              "      <td>-0.002367</td>\n",
              "    </tr>\n",
              "    <tr>\n",
              "      <th>TransactionStartTime_year</th>\n",
              "      <td>-0.003586</td>\n",
              "    </tr>\n",
              "    <tr>\n",
              "      <th>TransactionStartTime_day</th>\n",
              "      <td>-0.007385</td>\n",
              "    </tr>\n",
              "    <tr>\n",
              "      <th>_ProductId_27</th>\n",
              "      <td>-0.007729</td>\n",
              "    </tr>\n",
              "    <tr>\n",
              "      <th>TransactionStartTime_month</th>\n",
              "      <td>-0.021493</td>\n",
              "    </tr>\n",
              "    <tr>\n",
              "      <th>_ProductId_2</th>\n",
              "      <td>-0.024422</td>\n",
              "    </tr>\n",
              "    <tr>\n",
              "      <th>_movies</th>\n",
              "      <td>-0.025116</td>\n",
              "    </tr>\n",
              "    <tr>\n",
              "      <th>_ProductId_24</th>\n",
              "      <td>-0.025116</td>\n",
              "    </tr>\n",
              "    <tr>\n",
              "      <th>_ProductId_8</th>\n",
              "      <td>-0.031033</td>\n",
              "    </tr>\n",
              "    <tr>\n",
              "      <th>PricingStrategy_2</th>\n",
              "      <td>-0.053302</td>\n",
              "    </tr>\n",
              "    <tr>\n",
              "      <th>_ProductId_20</th>\n",
              "      <td>-0.059815</td>\n",
              "    </tr>\n",
              "    <tr>\n",
              "      <th>_ticket</th>\n",
              "      <td>-0.059815</td>\n",
              "    </tr>\n",
              "    <tr>\n",
              "      <th>_ProductId_7</th>\n",
              "      <td>-0.062319</td>\n",
              "    </tr>\n",
              "    <tr>\n",
              "      <th>PricingStrategy_4</th>\n",
              "      <td>-0.068024</td>\n",
              "    </tr>\n",
              "    <tr>\n",
              "      <th>Number_of_Batch_Trans</th>\n",
              "      <td>-0.074552</td>\n",
              "    </tr>\n",
              "    <tr>\n",
              "      <th>_ProductId_19</th>\n",
              "      <td>-0.084656</td>\n",
              "    </tr>\n",
              "    <tr>\n",
              "      <th>_ProductId_21</th>\n",
              "      <td>-0.096991</td>\n",
              "    </tr>\n",
              "    <tr>\n",
              "      <th>_ChannelId_5</th>\n",
              "      <td>-0.102562</td>\n",
              "    </tr>\n",
              "    <tr>\n",
              "      <th>_ProductId_3</th>\n",
              "      <td>-0.135802</td>\n",
              "    </tr>\n",
              "    <tr>\n",
              "      <th>_ProductId_11</th>\n",
              "      <td>-0.142748</td>\n",
              "    </tr>\n",
              "    <tr>\n",
              "      <th>_data_bundles</th>\n",
              "      <td>-0.167170</td>\n",
              "    </tr>\n",
              "    <tr>\n",
              "      <th>_ProductId_14</th>\n",
              "      <td>-0.172189</td>\n",
              "    </tr>\n",
              "    <tr>\n",
              "      <th>_tv</th>\n",
              "      <td>-0.185737</td>\n",
              "    </tr>\n",
              "    <tr>\n",
              "      <th>_ProductId_4</th>\n",
              "      <td>-0.277213</td>\n",
              "    </tr>\n",
              "    <tr>\n",
              "      <th>_ProductId_6</th>\n",
              "      <td>-0.415233</td>\n",
              "    </tr>\n",
              "    <tr>\n",
              "      <th>_ChannelId_2</th>\n",
              "      <td>-0.552304</td>\n",
              "    </tr>\n",
              "    <tr>\n",
              "      <th>PricingStrategy_1</th>\n",
              "      <td>-0.632376</td>\n",
              "    </tr>\n",
              "    <tr>\n",
              "      <th>_ProviderId_4</th>\n",
              "      <td>-0.654866</td>\n",
              "    </tr>\n",
              "    <tr>\n",
              "      <th>Number_of_Transactions</th>\n",
              "      <td>-0.747260</td>\n",
              "    </tr>\n",
              "    <tr>\n",
              "      <th>_ProductId_10</th>\n",
              "      <td>-0.803390</td>\n",
              "    </tr>\n",
              "    <tr>\n",
              "      <th>Amount</th>\n",
              "      <td>-0.944045</td>\n",
              "    </tr>\n",
              "    <tr>\n",
              "      <th>_ProviderId_6</th>\n",
              "      <td>-1.202737</td>\n",
              "    </tr>\n",
              "  </tbody>\n",
              "</table>\n",
              "</div>"
            ],
            "text/plain": [
              "                                  coefficient\n",
              "_ProviderId_3                        1.588289\n",
              "Value                                1.536683\n",
              "_utility_bill                        1.122027\n",
              "_ProductId_13                        0.727875\n",
              "_ProductId_15                        0.595115\n",
              "_financial_services                  0.552939\n",
              "_ProductId_9                         0.545247\n",
              "_ProductId_22                        0.491143\n",
              "_transport                           0.328973\n",
              "_ProductId_5                         0.328973\n",
              "_ProviderId_5                        0.265799\n",
              "_ChannelId_3                         0.056833\n",
              "TransactionStartTime_day_of_week     0.018059\n",
              "_ProductId_26                        0.000000\n",
              "_ChannelId_4                         0.000000\n",
              "_ProductId_25                        0.000000\n",
              "_ProductId_17                        0.000000\n",
              "_retail                              0.000000\n",
              "_ProductId_18                        0.000000\n",
              "_ProductId_23                       -0.000127\n",
              "_other                              -0.001460\n",
              "_ProductId_12                       -0.001460\n",
              "_ProviderId_2                       -0.002277\n",
              "_ProductId_16                       -0.002367\n",
              "TransactionStartTime_year           -0.003586\n",
              "TransactionStartTime_day            -0.007385\n",
              "_ProductId_27                       -0.007729\n",
              "TransactionStartTime_month          -0.021493\n",
              "_ProductId_2                        -0.024422\n",
              "_movies                             -0.025116\n",
              "_ProductId_24                       -0.025116\n",
              "_ProductId_8                        -0.031033\n",
              "PricingStrategy_2                   -0.053302\n",
              "_ProductId_20                       -0.059815\n",
              "_ticket                             -0.059815\n",
              "_ProductId_7                        -0.062319\n",
              "PricingStrategy_4                   -0.068024\n",
              "Number_of_Batch_Trans               -0.074552\n",
              "_ProductId_19                       -0.084656\n",
              "_ProductId_21                       -0.096991\n",
              "_ChannelId_5                        -0.102562\n",
              "_ProductId_3                        -0.135802\n",
              "_ProductId_11                       -0.142748\n",
              "_data_bundles                       -0.167170\n",
              "_ProductId_14                       -0.172189\n",
              "_tv                                 -0.185737\n",
              "_ProductId_4                        -0.277213\n",
              "_ProductId_6                        -0.415233\n",
              "_ChannelId_2                        -0.552304\n",
              "PricingStrategy_1                   -0.632376\n",
              "_ProviderId_4                       -0.654866\n",
              "Number_of_Transactions              -0.747260\n",
              "_ProductId_10                       -0.803390\n",
              "Amount                              -0.944045\n",
              "_ProviderId_6                       -1.202737"
            ]
          },
          "metadata": {
            "tags": []
          },
          "execution_count": 192
        }
      ]
    },
    {
      "cell_type": "markdown",
      "metadata": {
        "id": "YXsWzdXZYHl-",
        "colab_type": "text"
      },
      "source": [
        "## Random Forest Classifier\n",
        "\n",
        "> This classifier was ran without making k-1 dummy variables. Will run it again without the mistake and see if results change that much and so that my submissions can be reproducable."
      ]
    },
    {
      "cell_type": "code",
      "metadata": {
        "id": "l-1rtyh2gT72",
        "colab_type": "code",
        "colab": {}
      },
      "source": [
        "?RandomForestClassifier"
      ],
      "execution_count": 0,
      "outputs": []
    },
    {
      "cell_type": "code",
      "metadata": {
        "id": "fEUFLxyugT73",
        "colab_type": "code",
        "colab": {
          "base_uri": "https://localhost:8080/",
          "height": 170
        },
        "outputId": "b0de2800-05cf-4e00-9378-5aacfc05f2f7"
      },
      "source": [
        "rf = RandomForestClassifier(random_state=42)\n",
        "rf.fit(X_train, y_train)"
      ],
      "execution_count": 193,
      "outputs": [
        {
          "output_type": "stream",
          "text": [
            "/usr/local/lib/python3.6/dist-packages/sklearn/ensemble/forest.py:245: FutureWarning: The default value of n_estimators will change from 10 in version 0.20 to 100 in 0.22.\n",
            "  \"10 in version 0.20 to 100 in 0.22.\", FutureWarning)\n"
          ],
          "name": "stderr"
        },
        {
          "output_type": "execute_result",
          "data": {
            "text/plain": [
              "RandomForestClassifier(bootstrap=True, class_weight=None, criterion='gini',\n",
              "                       max_depth=None, max_features='auto', max_leaf_nodes=None,\n",
              "                       min_impurity_decrease=0.0, min_impurity_split=None,\n",
              "                       min_samples_leaf=1, min_samples_split=2,\n",
              "                       min_weight_fraction_leaf=0.0, n_estimators=10,\n",
              "                       n_jobs=None, oob_score=False, random_state=42, verbose=0,\n",
              "                       warm_start=False)"
            ]
          },
          "metadata": {
            "tags": []
          },
          "execution_count": 193
        }
      ]
    },
    {
      "cell_type": "code",
      "metadata": {
        "id": "ZqB48-zHlvU0",
        "colab_type": "code",
        "colab": {}
      },
      "source": [
        ""
      ],
      "execution_count": 0,
      "outputs": []
    },
    {
      "cell_type": "code",
      "metadata": {
        "id": "kMG2T6MvP8rJ",
        "colab_type": "code",
        "colab": {
          "base_uri": "https://localhost:8080/",
          "height": 255
        },
        "outputId": "29b4afdd-55b1-402a-99a4-be7dc96474ef"
      },
      "source": [
        "rf.feature_importances_"
      ],
      "execution_count": 194,
      "outputs": [
        {
          "output_type": "execute_result",
          "data": {
            "text/plain": [
              "array([4.82747208e-01, 3.21314450e-01, 4.59474021e-03, 4.14430922e-03,\n",
              "       7.41495622e-03, 4.81581894e-02, 3.40072682e-02, 5.47448425e-02,\n",
              "       0.00000000e+00, 1.16717573e-02, 7.18092348e-07, 4.75885079e-03,\n",
              "       4.27462169e-04, 6.26119556e-05, 1.71589081e-04, 0.00000000e+00,\n",
              "       3.07252456e-05, 1.29483824e-07, 5.11604774e-03, 0.00000000e+00,\n",
              "       0.00000000e+00, 0.00000000e+00, 3.19458507e-06, 6.06980553e-09,\n",
              "       1.16919386e-08, 9.06151166e-06, 5.19616711e-04, 0.00000000e+00,\n",
              "       0.00000000e+00, 0.00000000e+00, 0.00000000e+00, 0.00000000e+00,\n",
              "       4.16817344e-04, 9.06430463e-05, 2.46503504e-03, 9.44426515e-05,\n",
              "       0.00000000e+00, 0.00000000e+00, 1.95389494e-03, 6.66574527e-06,\n",
              "       6.83819300e-04, 7.07843395e-07, 0.00000000e+00, 0.00000000e+00,\n",
              "       0.00000000e+00, 1.50646357e-04, 1.47169873e-04, 5.74658149e-04,\n",
              "       4.77858892e-04, 1.42357338e-03, 0.00000000e+00, 5.87679451e-07,\n",
              "       7.23361569e-04, 9.78624688e-03, 1.10612518e-03])"
            ]
          },
          "metadata": {
            "tags": []
          },
          "execution_count": 194
        }
      ]
    },
    {
      "cell_type": "code",
      "metadata": {
        "id": "BMTFr5bngT76",
        "colab_type": "code",
        "colab": {
          "base_uri": "https://localhost:8080/",
          "height": 34
        },
        "outputId": "a0e3c735-79b5-4f36-a9ea-12a2dd5e0e36"
      },
      "source": [
        "metrics.f1_score(y_train, rf.predict(X_train))"
      ],
      "execution_count": 195,
      "outputs": [
        {
          "output_type": "execute_result",
          "data": {
            "text/plain": [
              "0.9686411149825784"
            ]
          },
          "metadata": {
            "tags": []
          },
          "execution_count": 195
        }
      ]
    },
    {
      "cell_type": "code",
      "metadata": {
        "id": "oZ62hTs9gT7-",
        "colab_type": "code",
        "colab": {
          "base_uri": "https://localhost:8080/",
          "height": 34
        },
        "outputId": "8267bc8c-62c3-414b-c01a-e77a3b803b18"
      },
      "source": [
        "metrics.f1_score(y_test, rf.predict(X_test))"
      ],
      "execution_count": 196,
      "outputs": [
        {
          "output_type": "execute_result",
          "data": {
            "text/plain": [
              "0.9148936170212766"
            ]
          },
          "metadata": {
            "tags": []
          },
          "execution_count": 196
        }
      ]
    },
    {
      "cell_type": "code",
      "metadata": {
        "id": "2PK1vHxSnNkf",
        "colab_type": "code",
        "colab": {
          "base_uri": "https://localhost:8080/",
          "height": 51
        },
        "outputId": "e9539210-a62e-403e-8217-b3c505f8db90"
      },
      "source": [
        "cross_val_score(rf, X_train, y_train, cv=10)"
      ],
      "execution_count": 202,
      "outputs": [
        {
          "output_type": "execute_result",
          "data": {
            "text/plain": [
              "array([0.99930314, 0.99958188, 0.99958188, 0.99958188, 0.99972125,\n",
              "       0.99958188, 0.99944243, 0.99902425, 0.99944243, 0.99930304])"
            ]
          },
          "metadata": {
            "tags": []
          },
          "execution_count": 202
        }
      ]
    },
    {
      "cell_type": "code",
      "metadata": {
        "id": "ZFYeUSuunR-8",
        "colab_type": "code",
        "colab": {
          "base_uri": "https://localhost:8080/",
          "height": 34
        },
        "outputId": "4598f29f-d767-4709-f67b-13db8eff9275"
      },
      "source": [
        "cross_val_score(rf, X_train, y_train, cv=5).mean()"
      ],
      "execution_count": 203,
      "outputs": [
        {
          "output_type": "execute_result",
          "data": {
            "text/plain": [
              "0.9994146050071355"
            ]
          },
          "metadata": {
            "tags": []
          },
          "execution_count": 203
        }
      ]
    },
    {
      "cell_type": "code",
      "metadata": {
        "id": "aelbsEx_mL9T",
        "colab_type": "code",
        "colab": {
          "base_uri": "https://localhost:8080/",
          "height": 1000
        },
        "outputId": "f6d880fd-78cb-45fb-ed9f-69afc76cc98f"
      },
      "source": [
        "# Create feature importance table\n",
        "\n",
        "Feature_Importance = pd.DataFrame(data = rf.feature_importances_, index = train_df.drop('FraudResult', axis=1).columns, columns = ['coefficient'])\n",
        "Feature_Importance = Feature_Importance.sort_values('coefficient', ascending=False)\n",
        "Feature_Importance"
      ],
      "execution_count": 197,
      "outputs": [
        {
          "output_type": "execute_result",
          "data": {
            "text/html": [
              "<div>\n",
              "<style scoped>\n",
              "    .dataframe tbody tr th:only-of-type {\n",
              "        vertical-align: middle;\n",
              "    }\n",
              "\n",
              "    .dataframe tbody tr th {\n",
              "        vertical-align: top;\n",
              "    }\n",
              "\n",
              "    .dataframe thead th {\n",
              "        text-align: right;\n",
              "    }\n",
              "</style>\n",
              "<table border=\"1\" class=\"dataframe\">\n",
              "  <thead>\n",
              "    <tr style=\"text-align: right;\">\n",
              "      <th></th>\n",
              "      <th>coefficient</th>\n",
              "    </tr>\n",
              "  </thead>\n",
              "  <tbody>\n",
              "    <tr>\n",
              "      <th>Amount</th>\n",
              "      <td>4.827472e-01</td>\n",
              "    </tr>\n",
              "    <tr>\n",
              "      <th>Value</th>\n",
              "      <td>3.213144e-01</td>\n",
              "    </tr>\n",
              "    <tr>\n",
              "      <th>Number_of_Transactions</th>\n",
              "      <td>5.474484e-02</td>\n",
              "    </tr>\n",
              "    <tr>\n",
              "      <th>TransactionStartTime_day</th>\n",
              "      <td>4.815819e-02</td>\n",
              "    </tr>\n",
              "    <tr>\n",
              "      <th>TransactionStartTime_day_of_week</th>\n",
              "      <td>3.400727e-02</td>\n",
              "    </tr>\n",
              "    <tr>\n",
              "      <th>_ProviderId_3</th>\n",
              "      <td>1.167176e-02</td>\n",
              "    </tr>\n",
              "    <tr>\n",
              "      <th>PricingStrategy_2</th>\n",
              "      <td>9.786247e-03</td>\n",
              "    </tr>\n",
              "    <tr>\n",
              "      <th>TransactionStartTime_month</th>\n",
              "      <td>7.414956e-03</td>\n",
              "    </tr>\n",
              "    <tr>\n",
              "      <th>_ProductId_15</th>\n",
              "      <td>5.116048e-03</td>\n",
              "    </tr>\n",
              "    <tr>\n",
              "      <th>_ProviderId_5</th>\n",
              "      <td>4.758851e-03</td>\n",
              "    </tr>\n",
              "    <tr>\n",
              "      <th>Number_of_Batch_Trans</th>\n",
              "      <td>4.594740e-03</td>\n",
              "    </tr>\n",
              "    <tr>\n",
              "      <th>TransactionStartTime_year</th>\n",
              "      <td>4.144309e-03</td>\n",
              "    </tr>\n",
              "    <tr>\n",
              "      <th>_ProductId_5</th>\n",
              "      <td>2.465035e-03</td>\n",
              "    </tr>\n",
              "    <tr>\n",
              "      <th>_ProductId_9</th>\n",
              "      <td>1.953895e-03</td>\n",
              "    </tr>\n",
              "    <tr>\n",
              "      <th>_ChannelId_3</th>\n",
              "      <td>1.423573e-03</td>\n",
              "    </tr>\n",
              "    <tr>\n",
              "      <th>PricingStrategy_4</th>\n",
              "      <td>1.106125e-03</td>\n",
              "    </tr>\n",
              "    <tr>\n",
              "      <th>PricingStrategy_1</th>\n",
              "      <td>7.233616e-04</td>\n",
              "    </tr>\n",
              "    <tr>\n",
              "      <th>_financial_services</th>\n",
              "      <td>6.838193e-04</td>\n",
              "    </tr>\n",
              "    <tr>\n",
              "      <th>_utility_bill</th>\n",
              "      <td>5.746581e-04</td>\n",
              "    </tr>\n",
              "    <tr>\n",
              "      <th>_ProductId_22</th>\n",
              "      <td>5.196167e-04</td>\n",
              "    </tr>\n",
              "    <tr>\n",
              "      <th>_ChannelId_2</th>\n",
              "      <td>4.778589e-04</td>\n",
              "    </tr>\n",
              "    <tr>\n",
              "      <th>_ProviderId_6</th>\n",
              "      <td>4.274622e-04</td>\n",
              "    </tr>\n",
              "    <tr>\n",
              "      <th>_ProductId_3</th>\n",
              "      <td>4.168173e-04</td>\n",
              "    </tr>\n",
              "    <tr>\n",
              "      <th>_ProductId_11</th>\n",
              "      <td>1.715891e-04</td>\n",
              "    </tr>\n",
              "    <tr>\n",
              "      <th>_transport</th>\n",
              "      <td>1.506464e-04</td>\n",
              "    </tr>\n",
              "    <tr>\n",
              "      <th>_tv</th>\n",
              "      <td>1.471699e-04</td>\n",
              "    </tr>\n",
              "    <tr>\n",
              "      <th>_ProductId_6</th>\n",
              "      <td>9.444265e-05</td>\n",
              "    </tr>\n",
              "    <tr>\n",
              "      <th>_ProductId_4</th>\n",
              "      <td>9.064305e-05</td>\n",
              "    </tr>\n",
              "    <tr>\n",
              "      <th>_ProductId_10</th>\n",
              "      <td>6.261196e-05</td>\n",
              "    </tr>\n",
              "    <tr>\n",
              "      <th>_ProductId_13</th>\n",
              "      <td>3.072525e-05</td>\n",
              "    </tr>\n",
              "    <tr>\n",
              "      <th>_ProductId_21</th>\n",
              "      <td>9.061512e-06</td>\n",
              "    </tr>\n",
              "    <tr>\n",
              "      <th>_data_bundles</th>\n",
              "      <td>6.665745e-06</td>\n",
              "    </tr>\n",
              "    <tr>\n",
              "      <th>_ProductId_19</th>\n",
              "      <td>3.194585e-06</td>\n",
              "    </tr>\n",
              "    <tr>\n",
              "      <th>_ProviderId_4</th>\n",
              "      <td>7.180923e-07</td>\n",
              "    </tr>\n",
              "    <tr>\n",
              "      <th>_movies</th>\n",
              "      <td>7.078434e-07</td>\n",
              "    </tr>\n",
              "    <tr>\n",
              "      <th>_ChannelId_5</th>\n",
              "      <td>5.876795e-07</td>\n",
              "    </tr>\n",
              "    <tr>\n",
              "      <th>_ProductId_14</th>\n",
              "      <td>1.294838e-07</td>\n",
              "    </tr>\n",
              "    <tr>\n",
              "      <th>_ProductId_20</th>\n",
              "      <td>1.169194e-08</td>\n",
              "    </tr>\n",
              "    <tr>\n",
              "      <th>_ProductId_2</th>\n",
              "      <td>6.069806e-09</td>\n",
              "    </tr>\n",
              "    <tr>\n",
              "      <th>_ProductId_26</th>\n",
              "      <td>0.000000e+00</td>\n",
              "    </tr>\n",
              "    <tr>\n",
              "      <th>_ProductId_18</th>\n",
              "      <td>0.000000e+00</td>\n",
              "    </tr>\n",
              "    <tr>\n",
              "      <th>_ProviderId_2</th>\n",
              "      <td>0.000000e+00</td>\n",
              "    </tr>\n",
              "    <tr>\n",
              "      <th>_ProductId_12</th>\n",
              "      <td>0.000000e+00</td>\n",
              "    </tr>\n",
              "    <tr>\n",
              "      <th>_ChannelId_4</th>\n",
              "      <td>0.000000e+00</td>\n",
              "    </tr>\n",
              "    <tr>\n",
              "      <th>_ProductId_16</th>\n",
              "      <td>0.000000e+00</td>\n",
              "    </tr>\n",
              "    <tr>\n",
              "      <th>_ProductId_17</th>\n",
              "      <td>0.000000e+00</td>\n",
              "    </tr>\n",
              "    <tr>\n",
              "      <th>_other</th>\n",
              "      <td>0.000000e+00</td>\n",
              "    </tr>\n",
              "    <tr>\n",
              "      <th>_ticket</th>\n",
              "      <td>0.000000e+00</td>\n",
              "    </tr>\n",
              "    <tr>\n",
              "      <th>_retail</th>\n",
              "      <td>0.000000e+00</td>\n",
              "    </tr>\n",
              "    <tr>\n",
              "      <th>_ProductId_27</th>\n",
              "      <td>0.000000e+00</td>\n",
              "    </tr>\n",
              "    <tr>\n",
              "      <th>_ProductId_8</th>\n",
              "      <td>0.000000e+00</td>\n",
              "    </tr>\n",
              "    <tr>\n",
              "      <th>_ProductId_7</th>\n",
              "      <td>0.000000e+00</td>\n",
              "    </tr>\n",
              "    <tr>\n",
              "      <th>_ProductId_24</th>\n",
              "      <td>0.000000e+00</td>\n",
              "    </tr>\n",
              "    <tr>\n",
              "      <th>_ProductId_25</th>\n",
              "      <td>0.000000e+00</td>\n",
              "    </tr>\n",
              "    <tr>\n",
              "      <th>_ProductId_23</th>\n",
              "      <td>0.000000e+00</td>\n",
              "    </tr>\n",
              "  </tbody>\n",
              "</table>\n",
              "</div>"
            ],
            "text/plain": [
              "                                   coefficient\n",
              "Amount                            4.827472e-01\n",
              "Value                             3.213144e-01\n",
              "Number_of_Transactions            5.474484e-02\n",
              "TransactionStartTime_day          4.815819e-02\n",
              "TransactionStartTime_day_of_week  3.400727e-02\n",
              "_ProviderId_3                     1.167176e-02\n",
              "PricingStrategy_2                 9.786247e-03\n",
              "TransactionStartTime_month        7.414956e-03\n",
              "_ProductId_15                     5.116048e-03\n",
              "_ProviderId_5                     4.758851e-03\n",
              "Number_of_Batch_Trans             4.594740e-03\n",
              "TransactionStartTime_year         4.144309e-03\n",
              "_ProductId_5                      2.465035e-03\n",
              "_ProductId_9                      1.953895e-03\n",
              "_ChannelId_3                      1.423573e-03\n",
              "PricingStrategy_4                 1.106125e-03\n",
              "PricingStrategy_1                 7.233616e-04\n",
              "_financial_services               6.838193e-04\n",
              "_utility_bill                     5.746581e-04\n",
              "_ProductId_22                     5.196167e-04\n",
              "_ChannelId_2                      4.778589e-04\n",
              "_ProviderId_6                     4.274622e-04\n",
              "_ProductId_3                      4.168173e-04\n",
              "_ProductId_11                     1.715891e-04\n",
              "_transport                        1.506464e-04\n",
              "_tv                               1.471699e-04\n",
              "_ProductId_6                      9.444265e-05\n",
              "_ProductId_4                      9.064305e-05\n",
              "_ProductId_10                     6.261196e-05\n",
              "_ProductId_13                     3.072525e-05\n",
              "_ProductId_21                     9.061512e-06\n",
              "_data_bundles                     6.665745e-06\n",
              "_ProductId_19                     3.194585e-06\n",
              "_ProviderId_4                     7.180923e-07\n",
              "_movies                           7.078434e-07\n",
              "_ChannelId_5                      5.876795e-07\n",
              "_ProductId_14                     1.294838e-07\n",
              "_ProductId_20                     1.169194e-08\n",
              "_ProductId_2                      6.069806e-09\n",
              "_ProductId_26                     0.000000e+00\n",
              "_ProductId_18                     0.000000e+00\n",
              "_ProviderId_2                     0.000000e+00\n",
              "_ProductId_12                     0.000000e+00\n",
              "_ChannelId_4                      0.000000e+00\n",
              "_ProductId_16                     0.000000e+00\n",
              "_ProductId_17                     0.000000e+00\n",
              "_other                            0.000000e+00\n",
              "_ticket                           0.000000e+00\n",
              "_retail                           0.000000e+00\n",
              "_ProductId_27                     0.000000e+00\n",
              "_ProductId_8                      0.000000e+00\n",
              "_ProductId_7                      0.000000e+00\n",
              "_ProductId_24                     0.000000e+00\n",
              "_ProductId_25                     0.000000e+00\n",
              "_ProductId_23                     0.000000e+00"
            ]
          },
          "metadata": {
            "tags": []
          },
          "execution_count": 197
        }
      ]
    },
    {
      "cell_type": "code",
      "metadata": {
        "id": "Dw1Y_pkXgT8C",
        "colab_type": "code",
        "colab": {
          "base_uri": "https://localhost:8080/",
          "height": 204
        },
        "outputId": "4ef67a2a-efdb-4bba-e20a-d16103f32303"
      },
      "source": [
        "# Submission\n",
        "\n",
        "submission = pd.DataFrame()\n",
        "submission['TransactionId'] = test.TransactionId\n",
        "submission['FraudResult'] = rf.predict(test_df.values)\n",
        "\n",
        "submission.head()"
      ],
      "execution_count": 79,
      "outputs": [
        {
          "output_type": "execute_result",
          "data": {
            "text/html": [
              "<div>\n",
              "<style scoped>\n",
              "    .dataframe tbody tr th:only-of-type {\n",
              "        vertical-align: middle;\n",
              "    }\n",
              "\n",
              "    .dataframe tbody tr th {\n",
              "        vertical-align: top;\n",
              "    }\n",
              "\n",
              "    .dataframe thead th {\n",
              "        text-align: right;\n",
              "    }\n",
              "</style>\n",
              "<table border=\"1\" class=\"dataframe\">\n",
              "  <thead>\n",
              "    <tr style=\"text-align: right;\">\n",
              "      <th></th>\n",
              "      <th>TransactionId</th>\n",
              "      <th>FraudResult</th>\n",
              "    </tr>\n",
              "  </thead>\n",
              "  <tbody>\n",
              "    <tr>\n",
              "      <th>0</th>\n",
              "      <td>TransactionId_50600</td>\n",
              "      <td>0.0</td>\n",
              "    </tr>\n",
              "    <tr>\n",
              "      <th>1</th>\n",
              "      <td>TransactionId_95109</td>\n",
              "      <td>0.0</td>\n",
              "    </tr>\n",
              "    <tr>\n",
              "      <th>2</th>\n",
              "      <td>TransactionId_47357</td>\n",
              "      <td>0.0</td>\n",
              "    </tr>\n",
              "    <tr>\n",
              "      <th>3</th>\n",
              "      <td>TransactionId_28185</td>\n",
              "      <td>0.0</td>\n",
              "    </tr>\n",
              "    <tr>\n",
              "      <th>4</th>\n",
              "      <td>TransactionId_22140</td>\n",
              "      <td>0.0</td>\n",
              "    </tr>\n",
              "  </tbody>\n",
              "</table>\n",
              "</div>"
            ],
            "text/plain": [
              "         TransactionId  FraudResult\n",
              "0  TransactionId_50600          0.0\n",
              "1  TransactionId_95109          0.0\n",
              "2  TransactionId_47357          0.0\n",
              "3  TransactionId_28185          0.0\n",
              "4  TransactionId_22140          0.0"
            ]
          },
          "metadata": {
            "tags": []
          },
          "execution_count": 79
        }
      ]
    },
    {
      "cell_type": "code",
      "metadata": {
        "id": "sZ9t45z3TP8I",
        "colab_type": "code",
        "colab": {}
      },
      "source": [
        "submission.to_csv('sub_1_rf.csv', index=False)"
      ],
      "execution_count": 0,
      "outputs": []
    },
    {
      "cell_type": "code",
      "metadata": {
        "id": "zIjlaj6oTrOs",
        "colab_type": "code",
        "colab": {
          "base_uri": "https://localhost:8080/",
          "height": 204
        },
        "outputId": "e50dca34-cbdd-4611-cbfa-f5cb816ef236"
      },
      "source": [
        "# Submission\n",
        "\n",
        "submission = pd.DataFrame()\n",
        "submission['TransactionId'] = test.TransactionId\n",
        "submission['FraudResult'] = rf.predict(test_df.values)\n",
        "\n",
        "submission.head()"
      ],
      "execution_count": 198,
      "outputs": [
        {
          "output_type": "execute_result",
          "data": {
            "text/html": [
              "<div>\n",
              "<style scoped>\n",
              "    .dataframe tbody tr th:only-of-type {\n",
              "        vertical-align: middle;\n",
              "    }\n",
              "\n",
              "    .dataframe tbody tr th {\n",
              "        vertical-align: top;\n",
              "    }\n",
              "\n",
              "    .dataframe thead th {\n",
              "        text-align: right;\n",
              "    }\n",
              "</style>\n",
              "<table border=\"1\" class=\"dataframe\">\n",
              "  <thead>\n",
              "    <tr style=\"text-align: right;\">\n",
              "      <th></th>\n",
              "      <th>TransactionId</th>\n",
              "      <th>FraudResult</th>\n",
              "    </tr>\n",
              "  </thead>\n",
              "  <tbody>\n",
              "    <tr>\n",
              "      <th>0</th>\n",
              "      <td>TransactionId_50600</td>\n",
              "      <td>0.0</td>\n",
              "    </tr>\n",
              "    <tr>\n",
              "      <th>1</th>\n",
              "      <td>TransactionId_95109</td>\n",
              "      <td>0.0</td>\n",
              "    </tr>\n",
              "    <tr>\n",
              "      <th>2</th>\n",
              "      <td>TransactionId_47357</td>\n",
              "      <td>0.0</td>\n",
              "    </tr>\n",
              "    <tr>\n",
              "      <th>3</th>\n",
              "      <td>TransactionId_28185</td>\n",
              "      <td>0.0</td>\n",
              "    </tr>\n",
              "    <tr>\n",
              "      <th>4</th>\n",
              "      <td>TransactionId_22140</td>\n",
              "      <td>0.0</td>\n",
              "    </tr>\n",
              "  </tbody>\n",
              "</table>\n",
              "</div>"
            ],
            "text/plain": [
              "         TransactionId  FraudResult\n",
              "0  TransactionId_50600          0.0\n",
              "1  TransactionId_95109          0.0\n",
              "2  TransactionId_47357          0.0\n",
              "3  TransactionId_28185          0.0\n",
              "4  TransactionId_22140          0.0"
            ]
          },
          "metadata": {
            "tags": []
          },
          "execution_count": 198
        }
      ]
    },
    {
      "cell_type": "code",
      "metadata": {
        "id": "_BsUSqVXmWAM",
        "colab_type": "code",
        "colab": {}
      },
      "source": [
        "submission.to_csv('sub_2_rf.csv', index=False)"
      ],
      "execution_count": 0,
      "outputs": []
    },
    {
      "cell_type": "markdown",
      "metadata": {
        "id": "Lq5H4xxBmrEF",
        "colab_type": "text"
      },
      "source": [
        "## Hyper parameter with Random Forest"
      ]
    },
    {
      "cell_type": "code",
      "metadata": {
        "id": "8IZoi0wZmc2x",
        "colab_type": "code",
        "colab": {
          "base_uri": "https://localhost:8080/",
          "height": 71
        },
        "outputId": "50f2d9f6-7790-4509-9a2a-66f6ccd58ee0"
      },
      "source": [
        "parameters = {'n_estimators' : [10, 100, 1000, 2000], 'max_depth' : [None, 5, 10, 20]}\n",
        "grid = GridSearchCV(RandomForestClassifier(random_state=42), param_grid=parameters, scoring = 'f1')\n",
        "grid_result = grid.fit(X_train, y_train)"
      ],
      "execution_count": 208,
      "outputs": [
        {
          "output_type": "stream",
          "text": [
            "/usr/local/lib/python3.6/dist-packages/sklearn/model_selection/_split.py:1978: FutureWarning: The default value of cv will change from 3 to 5 in version 0.22. Specify it explicitly to silence this warning.\n",
            "  warnings.warn(CV_WARNING, FutureWarning)\n"
          ],
          "name": "stderr"
        }
      ]
    },
    {
      "cell_type": "code",
      "metadata": {
        "id": "aKA4_AMYmqAd",
        "colab_type": "code",
        "colab": {
          "base_uri": "https://localhost:8080/",
          "height": 34
        },
        "outputId": "cfa0d6dc-537b-4d36-8373-1452ac386b0c"
      },
      "source": [
        "grid_result.best_score_"
      ],
      "execution_count": 209,
      "outputs": [
        {
          "output_type": "execute_result",
          "data": {
            "text/plain": [
              "0.8718977004403128"
            ]
          },
          "metadata": {
            "tags": []
          },
          "execution_count": 209
        }
      ]
    },
    {
      "cell_type": "code",
      "metadata": {
        "id": "z3RMzm1RvAS5",
        "colab_type": "code",
        "colab": {
          "base_uri": "https://localhost:8080/",
          "height": 34
        },
        "outputId": "f0deb901-06db-4082-baf1-05bd6ed3e7e6"
      },
      "source": [
        "grid_result.best_params_"
      ],
      "execution_count": 221,
      "outputs": [
        {
          "output_type": "execute_result",
          "data": {
            "text/plain": [
              "{'max_depth': 10, 'n_estimators': 1000}"
            ]
          },
          "metadata": {
            "tags": []
          },
          "execution_count": 221
        }
      ]
    },
    {
      "cell_type": "code",
      "metadata": {
        "id": "wGK2s8hPmp3w",
        "colab_type": "code",
        "colab": {
          "base_uri": "https://localhost:8080/",
          "height": 136
        },
        "outputId": "72808067-af0f-49e7-fd0d-1de3a242a6cb"
      },
      "source": [
        "grid_result.best_estimator_"
      ],
      "execution_count": 210,
      "outputs": [
        {
          "output_type": "execute_result",
          "data": {
            "text/plain": [
              "RandomForestClassifier(bootstrap=True, class_weight=None, criterion='gini',\n",
              "                       max_depth=10, max_features='auto', max_leaf_nodes=None,\n",
              "                       min_impurity_decrease=0.0, min_impurity_split=None,\n",
              "                       min_samples_leaf=1, min_samples_split=2,\n",
              "                       min_weight_fraction_leaf=0.0, n_estimators=1000,\n",
              "                       n_jobs=None, oob_score=False, random_state=42, verbose=0,\n",
              "                       warm_start=False)"
            ]
          },
          "metadata": {
            "tags": []
          },
          "execution_count": 210
        }
      ]
    },
    {
      "cell_type": "code",
      "metadata": {
        "id": "WNLjEDa0mpsV",
        "colab_type": "code",
        "colab": {
          "base_uri": "https://localhost:8080/",
          "height": 204
        },
        "outputId": "97b55a3b-db94-4673-a6e5-ad6311aaa449"
      },
      "source": [
        "# Submission\n",
        "\n",
        "submission = pd.DataFrame()\n",
        "submission['TransactionId'] = test.TransactionId\n",
        "submission['FraudResult'] = grid_result.predict(test_df.values)\n",
        "\n",
        "submission.head()"
      ],
      "execution_count": 211,
      "outputs": [
        {
          "output_type": "execute_result",
          "data": {
            "text/html": [
              "<div>\n",
              "<style scoped>\n",
              "    .dataframe tbody tr th:only-of-type {\n",
              "        vertical-align: middle;\n",
              "    }\n",
              "\n",
              "    .dataframe tbody tr th {\n",
              "        vertical-align: top;\n",
              "    }\n",
              "\n",
              "    .dataframe thead th {\n",
              "        text-align: right;\n",
              "    }\n",
              "</style>\n",
              "<table border=\"1\" class=\"dataframe\">\n",
              "  <thead>\n",
              "    <tr style=\"text-align: right;\">\n",
              "      <th></th>\n",
              "      <th>TransactionId</th>\n",
              "      <th>FraudResult</th>\n",
              "    </tr>\n",
              "  </thead>\n",
              "  <tbody>\n",
              "    <tr>\n",
              "      <th>0</th>\n",
              "      <td>TransactionId_50600</td>\n",
              "      <td>0.0</td>\n",
              "    </tr>\n",
              "    <tr>\n",
              "      <th>1</th>\n",
              "      <td>TransactionId_95109</td>\n",
              "      <td>0.0</td>\n",
              "    </tr>\n",
              "    <tr>\n",
              "      <th>2</th>\n",
              "      <td>TransactionId_47357</td>\n",
              "      <td>0.0</td>\n",
              "    </tr>\n",
              "    <tr>\n",
              "      <th>3</th>\n",
              "      <td>TransactionId_28185</td>\n",
              "      <td>0.0</td>\n",
              "    </tr>\n",
              "    <tr>\n",
              "      <th>4</th>\n",
              "      <td>TransactionId_22140</td>\n",
              "      <td>0.0</td>\n",
              "    </tr>\n",
              "  </tbody>\n",
              "</table>\n",
              "</div>"
            ],
            "text/plain": [
              "         TransactionId  FraudResult\n",
              "0  TransactionId_50600          0.0\n",
              "1  TransactionId_95109          0.0\n",
              "2  TransactionId_47357          0.0\n",
              "3  TransactionId_28185          0.0\n",
              "4  TransactionId_22140          0.0"
            ]
          },
          "metadata": {
            "tags": []
          },
          "execution_count": 211
        }
      ]
    },
    {
      "cell_type": "code",
      "metadata": {
        "id": "tHEkrULlpJAN",
        "colab_type": "code",
        "colab": {}
      },
      "source": [
        "submission.to_csv('sub_3_grid_rf.csv', index=False)"
      ],
      "execution_count": 0,
      "outputs": []
    },
    {
      "cell_type": "markdown",
      "metadata": {
        "id": "ij9et-JtpW0b",
        "colab_type": "text"
      },
      "source": [
        "## Balancing Dataset"
      ]
    },
    {
      "cell_type": "markdown",
      "metadata": {
        "id": "rgoVLrOExs_-",
        "colab_type": "text"
      },
      "source": [
        "Source: https://towardsdatascience.com/methods-for-dealing-with-imbalanced-data-5b761be45a18"
      ]
    },
    {
      "cell_type": "code",
      "metadata": {
        "id": "LodUo94ss34r",
        "colab_type": "code",
        "colab": {}
      },
      "source": [
        "from sklearn.utils import resample\n",
        "\n",
        "# Separate input features and target\n",
        "y = train_df.FraudResult\n",
        "X = train_df.drop('FraudResult', axis=1)\n",
        "\n",
        "# setting up testing and training sets\n",
        "X_train, X_test, y_train, y_test = train_test_split(X, y, test_size=0.25, random_state=27)\n",
        "\n",
        "# concatenate our training data back together\n",
        "X_b = pd.concat([X_train, y_train], axis=1)\n",
        "\n",
        "# separate minority and majority classes\n",
        "not_fraud = X_b[X_b.FraudResult==0]\n",
        "fraud = X_b[X_b.FraudResult==1]\n",
        "\n",
        "# upsample minority\n",
        "fraud_upsampled = resample(fraud,\n",
        "                          replace=True, # sample with replacement\n",
        "                          n_samples=len(not_fraud), # match number in majority class\n",
        "                          random_state=27) # reproducible results\n",
        "\n",
        "# combine majority and upsampled minority\n",
        "upsampled = pd.concat([not_fraud, fraud_upsampled])\n",
        "\n",
        "upsampled.FraudResult.value_counts()"
      ],
      "execution_count": 0,
      "outputs": []
    },
    {
      "cell_type": "code",
      "metadata": {
        "id": "P8sFXjRmuIbt",
        "colab_type": "code",
        "colab": {
          "base_uri": "https://localhost:8080/",
          "height": 68
        },
        "outputId": "25160f05-0202-47c4-b3d0-e48991e4d465"
      },
      "source": [
        "upsampled.FraudResult.value_counts()"
      ],
      "execution_count": 214,
      "outputs": [
        {
          "output_type": "execute_result",
          "data": {
            "text/plain": [
              "1.0    71605\n",
              "0.0    71605\n",
              "Name: FraudResult, dtype: int64"
            ]
          },
          "metadata": {
            "tags": []
          },
          "execution_count": 214
        }
      ]
    },
    {
      "cell_type": "code",
      "metadata": {
        "id": "wi55VUh_uS5k",
        "colab_type": "code",
        "colab": {
          "base_uri": "https://localhost:8080/",
          "height": 170
        },
        "outputId": "d80736cc-43f9-4934-db6c-65f45a475e9e"
      },
      "source": [
        "rf_b = RandomForestClassifier('max_depth': 10, 'n_estimators': 1000, random_state=42)\n",
        "rf_b.fit(X_train, y_train)"
      ],
      "execution_count": 217,
      "outputs": [
        {
          "output_type": "stream",
          "text": [
            "/usr/local/lib/python3.6/dist-packages/sklearn/ensemble/forest.py:245: FutureWarning: The default value of n_estimators will change from 10 in version 0.20 to 100 in 0.22.\n",
            "  \"10 in version 0.20 to 100 in 0.22.\", FutureWarning)\n"
          ],
          "name": "stderr"
        },
        {
          "output_type": "execute_result",
          "data": {
            "text/plain": [
              "RandomForestClassifier(bootstrap=True, class_weight=None, criterion='gini',\n",
              "                       max_depth=None, max_features='auto', max_leaf_nodes=None,\n",
              "                       min_impurity_decrease=0.0, min_impurity_split=None,\n",
              "                       min_samples_leaf=1, min_samples_split=2,\n",
              "                       min_weight_fraction_leaf=0.0, n_estimators=10,\n",
              "                       n_jobs=None, oob_score=False, random_state=42, verbose=0,\n",
              "                       warm_start=False)"
            ]
          },
          "metadata": {
            "tags": []
          },
          "execution_count": 217
        }
      ]
    },
    {
      "cell_type": "code",
      "metadata": {
        "id": "vj38GzOTuSsR",
        "colab_type": "code",
        "colab": {
          "base_uri": "https://localhost:8080/",
          "height": 34
        },
        "outputId": "ee83d4ae-b0a7-4b79-f136-3eba5ae81559"
      },
      "source": [
        "metrics.f1_score(y_train, rf_b.predict(X_train))"
      ],
      "execution_count": 218,
      "outputs": [
        {
          "output_type": "execute_result",
          "data": {
            "text/plain": [
              "0.9785714285714285"
            ]
          },
          "metadata": {
            "tags": []
          },
          "execution_count": 218
        }
      ]
    },
    {
      "cell_type": "code",
      "metadata": {
        "id": "osAXMvhuuy_x",
        "colab_type": "code",
        "colab": {
          "base_uri": "https://localhost:8080/",
          "height": 34
        },
        "outputId": "40275f27-53ce-4335-e0d4-a90bdd517ccd"
      },
      "source": [
        "metrics.f1_score(y_test, rf_b.predict(X_test))"
      ],
      "execution_count": 220,
      "outputs": [
        {
          "output_type": "execute_result",
          "data": {
            "text/plain": [
              "0.8979591836734695"
            ]
          },
          "metadata": {
            "tags": []
          },
          "execution_count": 220
        }
      ]
    },
    {
      "cell_type": "code",
      "metadata": {
        "id": "DMPi_04rvLzy",
        "colab_type": "code",
        "colab": {
          "base_uri": "https://localhost:8080/",
          "height": 204
        },
        "outputId": "43858018-1b26-4afb-db22-e1155d167945"
      },
      "source": [
        "# Submission\n",
        "\n",
        "submission = pd.DataFrame()\n",
        "submission['TransactionId'] = test.TransactionId\n",
        "submission['FraudResult'] = rf_b.predict(test_df.values)\n",
        "\n",
        "submission.head()"
      ],
      "execution_count": 222,
      "outputs": [
        {
          "output_type": "execute_result",
          "data": {
            "text/html": [
              "<div>\n",
              "<style scoped>\n",
              "    .dataframe tbody tr th:only-of-type {\n",
              "        vertical-align: middle;\n",
              "    }\n",
              "\n",
              "    .dataframe tbody tr th {\n",
              "        vertical-align: top;\n",
              "    }\n",
              "\n",
              "    .dataframe thead th {\n",
              "        text-align: right;\n",
              "    }\n",
              "</style>\n",
              "<table border=\"1\" class=\"dataframe\">\n",
              "  <thead>\n",
              "    <tr style=\"text-align: right;\">\n",
              "      <th></th>\n",
              "      <th>TransactionId</th>\n",
              "      <th>FraudResult</th>\n",
              "    </tr>\n",
              "  </thead>\n",
              "  <tbody>\n",
              "    <tr>\n",
              "      <th>0</th>\n",
              "      <td>TransactionId_50600</td>\n",
              "      <td>0.0</td>\n",
              "    </tr>\n",
              "    <tr>\n",
              "      <th>1</th>\n",
              "      <td>TransactionId_95109</td>\n",
              "      <td>0.0</td>\n",
              "    </tr>\n",
              "    <tr>\n",
              "      <th>2</th>\n",
              "      <td>TransactionId_47357</td>\n",
              "      <td>0.0</td>\n",
              "    </tr>\n",
              "    <tr>\n",
              "      <th>3</th>\n",
              "      <td>TransactionId_28185</td>\n",
              "      <td>0.0</td>\n",
              "    </tr>\n",
              "    <tr>\n",
              "      <th>4</th>\n",
              "      <td>TransactionId_22140</td>\n",
              "      <td>0.0</td>\n",
              "    </tr>\n",
              "  </tbody>\n",
              "</table>\n",
              "</div>"
            ],
            "text/plain": [
              "         TransactionId  FraudResult\n",
              "0  TransactionId_50600          0.0\n",
              "1  TransactionId_95109          0.0\n",
              "2  TransactionId_47357          0.0\n",
              "3  TransactionId_28185          0.0\n",
              "4  TransactionId_22140          0.0"
            ]
          },
          "metadata": {
            "tags": []
          },
          "execution_count": 222
        }
      ]
    },
    {
      "cell_type": "code",
      "metadata": {
        "id": "gUS9RC0kvQNQ",
        "colab_type": "code",
        "colab": {}
      },
      "source": [
        "submission.to_csv('sub_4_b_rf.csv', index=False)"
      ],
      "execution_count": 0,
      "outputs": []
    },
    {
      "cell_type": "code",
      "metadata": {
        "id": "x2-b9OIsvVHb",
        "colab_type": "code",
        "colab": {}
      },
      "source": [
        ""
      ],
      "execution_count": 0,
      "outputs": []
    }
  ]
}